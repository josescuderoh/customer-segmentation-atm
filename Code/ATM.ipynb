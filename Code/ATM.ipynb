{
 "cells": [
  {
   "cell_type": "code",
   "execution_count": 350,
   "metadata": {},
   "outputs": [],
   "source": [
    "#Imports\n",
    "import pymysql\n",
    "import pandas as pd\n",
    "import numpy as np\n",
    "import datetime\n",
    "import matplotlib.pyplot as plt\n",
    "from sklearn.metrics import silhouette_score\n",
    "from gensim.sklearn_api.atmodel import AuthorTopicTransformer\n",
    "from sklearn.metrics import silhouette_score, silhouette_samples\n",
    "from gensim.corpora import Dictionary\n",
    "from sklearn.cluster import KMeans\n",
    "import seaborn as sns\n",
    "from gensim.models import AuthorTopicModel"
   ]
  },
  {
   "cell_type": "markdown",
   "metadata": {},
   "source": [
    "# Importing the data"
   ]
  },
  {
   "cell_type": "markdown",
   "metadata": {},
   "source": [
    "# Connect to the database"
   ]
  },
  {
   "cell_type": "code",
   "execution_count": 98,
   "metadata": {},
   "outputs": [],
   "source": [
    "conn = pymysql.connect(host='learning-1000ml.c0zbrffehjje.us-east-2.rds.amazonaws.com', \n",
    "                       port=3306, \n",
    "                       user='root1000ml', \n",
    "                       passwd='IheartData', \n",
    "                       db = 'grocery_db')"
   ]
  },
  {
   "cell_type": "markdown",
   "metadata": {},
   "source": [
    "### Get the customers data "
   ]
  },
  {
   "cell_type": "code",
   "execution_count": 163,
   "metadata": {},
   "outputs": [
    {
     "data": {
      "text/html": [
       "<div>\n",
       "<style scoped>\n",
       "    .dataframe tbody tr th:only-of-type {\n",
       "        vertical-align: middle;\n",
       "    }\n",
       "\n",
       "    .dataframe tbody tr th {\n",
       "        vertical-align: top;\n",
       "    }\n",
       "\n",
       "    .dataframe thead th {\n",
       "        text-align: right;\n",
       "    }\n",
       "</style>\n",
       "<table border=\"1\" class=\"dataframe\">\n",
       "  <thead>\n",
       "    <tr style=\"text-align: right;\">\n",
       "      <th></th>\n",
       "      <th>cust_id</th>\n",
       "      <th>basket_id</th>\n",
       "    </tr>\n",
       "  </thead>\n",
       "  <tbody>\n",
       "    <tr>\n",
       "      <td>0</td>\n",
       "      <td>CUST0000000013</td>\n",
       "      <td>994105500169368</td>\n",
       "    </tr>\n",
       "    <tr>\n",
       "      <td>1</td>\n",
       "      <td>CUST0000000013</td>\n",
       "      <td>994105900171284</td>\n",
       "    </tr>\n",
       "    <tr>\n",
       "      <td>2</td>\n",
       "      <td>CUST0000000013</td>\n",
       "      <td>994106000168294</td>\n",
       "    </tr>\n",
       "    <tr>\n",
       "      <td>3</td>\n",
       "      <td>CUST0000000013</td>\n",
       "      <td>994106600174081</td>\n",
       "    </tr>\n",
       "    <tr>\n",
       "      <td>4</td>\n",
       "      <td>CUST0000000013</td>\n",
       "      <td>994106700173720</td>\n",
       "    </tr>\n",
       "  </tbody>\n",
       "</table>\n",
       "</div>"
      ],
      "text/plain": [
       "          cust_id        basket_id\n",
       "0  CUST0000000013  994105500169368\n",
       "1  CUST0000000013  994105900171284\n",
       "2  CUST0000000013  994106000168294\n",
       "3  CUST0000000013  994106600174081\n",
       "4  CUST0000000013  994106700173720"
      ]
     },
     "execution_count": 163,
     "metadata": {},
     "output_type": "execute_result"
    }
   ],
   "source": [
    "#Query products grouped by basket_id and prod_code_10\n",
    "customers_df = pd.read_sql('select distinct Customers.cust_id, Transactions.basket_id from Customers \\\n",
    "                         inner join Transactions on Customers.cust_id = Transactions.cust_id;', conn)\n",
    "customers_df.head()"
   ]
  },
  {
   "cell_type": "markdown",
   "metadata": {},
   "source": [
    "### Get basket data "
   ]
  },
  {
   "cell_type": "code",
   "execution_count": 164,
   "metadata": {},
   "outputs": [],
   "source": [
    "# Load the data for products inside baskets\n",
    "baskets_df = pd.read_csv('baskets.csv')"
   ]
  },
  {
   "cell_type": "code",
   "execution_count": 165,
   "metadata": {},
   "outputs": [],
   "source": [
    "#Count the number of apperances of prod_id for each basket and prod_code_10\n",
    "product_counts = baskets_df.groupby(['basket_id', 'prod_code_10']).count().reset_index()"
   ]
  },
  {
   "cell_type": "code",
   "execution_count": 166,
   "metadata": {},
   "outputs": [],
   "source": [
    "# Pivot table to get the prod_code_10 in columns and the sum of those prod_id to populate sparse matrix \n",
    "row_counts = pd.pivot_table(product_counts, columns='prod_code_10', index='basket_id', values='prod_id', fill_value=0)"
   ]
  },
  {
   "cell_type": "code",
   "execution_count": 167,
   "metadata": {},
   "outputs": [
    {
     "data": {
      "text/plain": [
       "(490982, 250)"
      ]
     },
     "execution_count": 167,
     "metadata": {},
     "output_type": "execute_result"
    }
   ],
   "source": [
    "#Get initial number of baskets\n",
    "row_counts.shape"
   ]
  },
  {
   "cell_type": "markdown",
   "metadata": {},
   "source": [
    "Let's cut down the number of products available for analysis to leave only those with non-extreme frequency. "
   ]
  },
  {
   "cell_type": "code",
   "execution_count": 168,
   "metadata": {},
   "outputs": [
    {
     "data": {
      "text/plain": [
       "(490982, 134)"
      ]
     },
     "execution_count": 168,
     "metadata": {},
     "output_type": "execute_result"
    }
   ],
   "source": [
    "# Trim according to the 9 and 95% of the range\n",
    "trim_row_counts = row_counts[row_counts.columns[(row_counts.sum(axis=0) > 5500) &\n",
    "                                        (row_counts.sum(axis=0) < 110000)]]\n",
    "trim_row_counts.shape"
   ]
  },
  {
   "cell_type": "markdown",
   "metadata": {},
   "source": [
    "We filtered the products down to 134 significant products and now let's filter the baskets "
   ]
  },
  {
   "cell_type": "code",
   "execution_count": 169,
   "metadata": {},
   "outputs": [
    {
     "data": {
      "text/plain": [
       "(240426, 134)"
      ]
     },
     "execution_count": 169,
     "metadata": {},
     "output_type": "execute_result"
    }
   ],
   "source": [
    "# Trim the baskets with more than 3 products\n",
    "trim_row_counts = trim_row_counts[trim_row_counts.sum(axis=1)>=4]\n",
    "trim_row_counts.shape"
   ]
  },
  {
   "cell_type": "markdown",
   "metadata": {},
   "source": [
    "We end up with 240.426 baskets with 4 or more of the 134 product types available. Since we are interested in the customer who bought those products, we are now going to filter down the products that have a customer linked to it. "
   ]
  },
  {
   "cell_type": "code",
   "execution_count": 170,
   "metadata": {},
   "outputs": [],
   "source": [
    "# Only pick those baskets with a customer assigned\n",
    "trim_row_counts = trim_row_counts[trim_row_counts.index.isin(customers_df.basket_id.unique())]"
   ]
  },
  {
   "cell_type": "code",
   "execution_count": 171,
   "metadata": {},
   "outputs": [
    {
     "data": {
      "text/plain": [
       "(190588, 134)"
      ]
     },
     "execution_count": 171,
     "metadata": {},
     "output_type": "execute_result"
    }
   ],
   "source": [
    "trim_row_counts.shape"
   ]
  },
  {
   "cell_type": "markdown",
   "metadata": {},
   "source": [
    "This is our final dataframe for the products within baskets "
   ]
  },
  {
   "cell_type": "markdown",
   "metadata": {},
   "source": [
    "###  Prepare the data for the model"
   ]
  },
  {
   "cell_type": "markdown",
   "metadata": {},
   "source": [
    "Now let's convert our `trim_row_counts` frequency dataframe to a list of products per basket for later usage with gensim package, here we are going to use the name of each product as many times as it appears in a basket. "
   ]
  },
  {
   "cell_type": "code",
   "execution_count": 172,
   "metadata": {},
   "outputs": [
    {
     "name": "stdout",
     "output_type": "stream",
     "text": [
      "0.0\n",
      "0.05\n",
      "0.1\n",
      "0.16\n",
      "0.21\n",
      "0.26\n",
      "0.31\n",
      "0.37\n",
      "0.42\n",
      "0.47\n",
      "0.52\n",
      "0.58\n",
      "0.63\n",
      "0.68\n",
      "0.73\n",
      "0.79\n",
      "0.84\n",
      "0.89\n",
      "0.94\n",
      "1.0\n"
     ]
    }
   ],
   "source": [
    "corpus_list = []\n",
    "for pos, row in enumerate(trim_row_counts.iterrows()):\n",
    "    # Create a list with all the tokens (products) for each basket\n",
    "    corpus_list.append([col for col in trim_row_counts.columns \\\n",
    "                        for x in range(trim_row_counts.loc[row[0], col])])\n",
    "    #Status flag\n",
    "    if pos % 10000 == 0:\n",
    "        print(round(pos/(trim_row_counts.shape[0]-1),2))"
   ]
  },
  {
   "cell_type": "code",
   "execution_count": 173,
   "metadata": {},
   "outputs": [],
   "source": [
    "# Create dictionary object with this corpus list, which is required by the ATM model\n",
    "dictionary = Dictionary(corpus_list)"
   ]
  },
  {
   "cell_type": "code",
   "execution_count": 174,
   "metadata": {},
   "outputs": [],
   "source": [
    "# Translate the corpus into a bag of words format (required by gensim)\n",
    "corpus = [dictionary.doc2bow(doc) for doc in corpus_list]"
   ]
  },
  {
   "cell_type": "code",
   "execution_count": 175,
   "metadata": {},
   "outputs": [
    {
     "name": "stdout",
     "output_type": "stream",
     "text": [
      "Number of authors: 18\n",
      "Number of unique tokens: 134\n",
      "Number of documents: 190588\n"
     ]
    }
   ],
   "source": [
    "# Get a summary of the data to feed the model\n",
    "print('Number of authors: %d' % len(customers_map))\n",
    "print('Number of unique tokens: %d' % len(dictionary))\n",
    "print('Number of documents: %d' % len(corpus))"
   ]
  },
  {
   "cell_type": "markdown",
   "metadata": {},
   "source": [
    "Now, the model requires a map to list all the baskets purchased by each customer using the index (orden of appearance) for each basket in the corpus. "
   ]
  },
  {
   "cell_type": "code",
   "execution_count": 176,
   "metadata": {},
   "outputs": [],
   "source": [
    "# Add an index to the baskets using the trim_row_counts dataframe\n",
    "baskets_map = trim_row_counts.reset_index()['basket_id'].reset_index()"
   ]
  },
  {
   "cell_type": "code",
   "execution_count": 177,
   "metadata": {},
   "outputs": [],
   "source": [
    "# Append the index to the customers_df data (to add the index to the basket_id)\n",
    "customers_df = customers_df.merge(baskets_map, on='basket_id')"
   ]
  },
  {
   "cell_type": "code",
   "execution_count": 178,
   "metadata": {},
   "outputs": [],
   "source": [
    "# Iterate over customers and store customer to basket index map to feed the ATM model. This lets the model know \n",
    "# which customer bought each of the baskets and assigns the given id to the customer.\n",
    "customers_map = {}\n",
    "for cust in customers_df.cust_id.unique():\n",
    "        customers_map[cust] = customers_df.loc[customers_df.cust_id==cust,'index'].to_list()"
   ]
  },
  {
   "cell_type": "markdown",
   "metadata": {},
   "source": [
    "### Apply ATM 5 Topics "
   ]
  },
  {
   "cell_type": "code",
   "execution_count": 406,
   "metadata": {},
   "outputs": [
    {
     "name": "stdout",
     "output_type": "stream",
     "text": [
      "Wall time: 20min 55s\n"
     ]
    }
   ],
   "source": [
    "# Fit the model\n",
    "%time atm5 = AuthorTopicModel(corpus=corpus, num_topics=5, author2doc=customers_map)"
   ]
  },
  {
   "cell_type": "code",
   "execution_count": 407,
   "metadata": {},
   "outputs": [],
   "source": [
    "# Get the probability of all topics for each customer\n",
    "customer_topics = [atm5.get_author_topics(author) for author in customers_df.cust_id.unique()]"
   ]
  },
  {
   "cell_type": "code",
   "execution_count": 408,
   "metadata": {},
   "outputs": [],
   "source": [
    "atm5.save(fname='atm_5t_1')"
   ]
  },
  {
   "cell_type": "code",
   "execution_count": 409,
   "metadata": {},
   "outputs": [],
   "source": [
    "# Get the most important topic for each customer\n",
    "customer_cluster = [np.argmax([topic[1] for topic in cust]) for cust in customer_topics]"
   ]
  },
  {
   "cell_type": "code",
   "execution_count": 410,
   "metadata": {},
   "outputs": [],
   "source": [
    "for i in range(len(customer_topics)):\n",
    "    if i==0:\n",
    "        customer_topics_df = pd.DataFrame(customer_topics[i]).set_index(0).T\n",
    "    else:\n",
    "        customer_topics_df = customer_topics_df.append(pd.DataFrame(customer_topics[i]).set_index(0).T)\n",
    "    \n",
    "    if i==-1:\n",
    "        break"
   ]
  },
  {
   "cell_type": "code",
   "execution_count": 411,
   "metadata": {},
   "outputs": [],
   "source": [
    "# Fill NAs with zero\n",
    "customer_topics_df.fillna(0, inplace=True)"
   ]
  },
  {
   "cell_type": "markdown",
   "metadata": {},
   "source": [
    "### KMeans for 5 topics "
   ]
  },
  {
   "cell_type": "code",
   "execution_count": 412,
   "metadata": {},
   "outputs": [],
   "source": [
    "km_models = []\n",
    "for no_clus in range(2,20):\n",
    "    # Fit the model\n",
    "    km_models.append(KMeans(n_clusters=no_clus,\n",
    "                           random_state=1).fit(customer_topics_df))"
   ]
  },
  {
   "cell_type": "code",
   "execution_count": 413,
   "metadata": {},
   "outputs": [],
   "source": [
    "scores = [silhouette_score(customer_topics_df, mod.labels_) for mod in km_models]"
   ]
  },
  {
   "cell_type": "code",
   "execution_count": 414,
   "metadata": {},
   "outputs": [
    {
     "data": {
      "text/plain": [
       "<matplotlib.axes._subplots.AxesSubplot at 0x1e449c7b8c8>"
      ]
     },
     "execution_count": 414,
     "metadata": {},
     "output_type": "execute_result"
    },
    {
     "data": {
      "image/png": "[encoded data removed]",
      "text/plain": [
       "<Figure size 432x288 with 1 Axes>"
      ]
     },
     "metadata": {
      "needs_background": "light"
     },
     "output_type": "display_data"
    }
   ],
   "source": [
    "sns.scatterplot(x=range(2,20), y=scores)"
   ]
  },
  {
   "cell_type": "code",
   "execution_count": 415,
   "metadata": {},
   "outputs": [],
   "source": [
    "inertias = [mod.inertia_ for mod in km_models]"
   ]
  },
  {
   "cell_type": "code",
   "execution_count": 416,
   "metadata": {},
   "outputs": [
    {
     "data": {
      "text/plain": [
       "<matplotlib.axes._subplots.AxesSubplot at 0x1e446dd3108>"
      ]
     },
     "execution_count": 416,
     "metadata": {},
     "output_type": "execute_result"
    },
    {
     "data": {
      "image/png": "[encoded data removed]",
      "text/plain": [
       "<Figure size 432x288 with 1 Axes>"
      ]
     },
     "metadata": {
      "needs_background": "light"
     },
     "output_type": "display_data"
    }
   ],
   "source": [
    "sns.scatterplot(x=range(2,20), y=inertias)"
   ]
  },
  {
   "cell_type": "code",
   "execution_count": 383,
   "metadata": {},
   "outputs": [],
   "source": [
    "# Get the most important topic for each customer\n",
    "customer_cluster = [np.argmax([topic[1] for topic in cust]) for cust in customer_topics]"
   ]
  },
  {
   "cell_type": "code",
   "execution_count": 384,
   "metadata": {},
   "outputs": [],
   "source": [
    "for i in range(len(customer_topics)):\n",
    "    if i==0:\n",
    "        customer_topics_df = pd.DataFrame(customer_topics[i]).set_index(0).T\n",
    "    else:\n",
    "        customer_topics_df = customer_topics_df.append(pd.DataFrame(customer_topics[i]).set_index(0).T)\n",
    "    \n",
    "    if i==-1:\n",
    "        break"
   ]
  },
  {
   "cell_type": "code",
   "execution_count": 385,
   "metadata": {},
   "outputs": [],
   "source": [
    "# Fill NAs with zero\n",
    "customer_topics_df.fillna(0, inplace=True)"
   ]
  },
  {
   "cell_type": "markdown",
   "metadata": {},
   "source": [
    "###  Apply ATM 10 Topics"
   ]
  },
  {
   "cell_type": "code",
   "execution_count": 358,
   "metadata": {},
   "outputs": [
    {
     "name": "stdout",
     "output_type": "stream",
     "text": [
      "Wall time: 8min 51s\n"
     ]
    }
   ],
   "source": [
    "# Fit the model\n",
    "%time atm10 = AuthorTopicModel(corpus=corpus, num_topics=10, author2doc=customers_map)"
   ]
  },
  {
   "cell_type": "code",
   "execution_count": 367,
   "metadata": {},
   "outputs": [],
   "source": [
    "# Get the probability of all topics for each customer\n",
    "customer_topics = [atm10.get_author_topics(author) for author in customers_df.cust_id.unique()]"
   ]
  },
  {
   "cell_type": "code",
   "execution_count": 368,
   "metadata": {},
   "outputs": [],
   "source": [
    "atm10.save(fname='atm_10t_1')"
   ]
  },
  {
   "cell_type": "code",
   "execution_count": 369,
   "metadata": {},
   "outputs": [],
   "source": [
    "# Get the most important topic for each customer\n",
    "customer_cluster = [np.argmax([topic[1] for topic in cust]) for cust in customer_topics]"
   ]
  },
  {
   "cell_type": "code",
   "execution_count": 370,
   "metadata": {},
   "outputs": [],
   "source": [
    "for i in range(len(customer_topics)):\n",
    "    if i==0:\n",
    "        customer_topics_df = pd.DataFrame(customer_topics[i]).set_index(0).T\n",
    "    else:\n",
    "        customer_topics_df = customer_topics_df.append(pd.DataFrame(customer_topics[i]).set_index(0).T)\n",
    "    \n",
    "    if i==-1:\n",
    "        break"
   ]
  },
  {
   "cell_type": "code",
   "execution_count": 371,
   "metadata": {},
   "outputs": [],
   "source": [
    "# Fill NAs with zero\n",
    "customer_topics_df.fillna(0, inplace=True)"
   ]
  },
  {
   "cell_type": "markdown",
   "metadata": {},
   "source": [
    "### KMeans for 10 topics "
   ]
  },
  {
   "cell_type": "code",
   "execution_count": 375,
   "metadata": {},
   "outputs": [],
   "source": [
    "km_models = []\n",
    "for no_clus in range(2,20):\n",
    "    # Fit the model\n",
    "    km_models.append(KMeans(n_clusters=no_clus,\n",
    "                           random_state=1).fit(customer_topics_df))"
   ]
  },
  {
   "cell_type": "code",
   "execution_count": 376,
   "metadata": {},
   "outputs": [],
   "source": [
    "scores = [silhouette_score(customer_topics_df, mod.labels_) for mod in km_models]"
   ]
  },
  {
   "cell_type": "code",
   "execution_count": 378,
   "metadata": {},
   "outputs": [
    {
     "data": {
      "text/plain": [
       "<matplotlib.axes._subplots.AxesSubplot at 0x1e42f526348>"
      ]
     },
     "execution_count": 378,
     "metadata": {},
     "output_type": "execute_result"
    },
    {
     "data": {
      "image/png": "[encoded data removed]",
      "text/plain": [
       "<Figure size 432x288 with 1 Axes>"
      ]
     },
     "metadata": {
      "needs_background": "light"
     },
     "output_type": "display_data"
    }
   ],
   "source": [
    "sns.scatterplot(x=range(2,20), y=scores)"
   ]
  },
  {
   "cell_type": "code",
   "execution_count": 380,
   "metadata": {},
   "outputs": [],
   "source": [
    "inertias = [mod.inertia_ for mod in km_models]"
   ]
  },
  {
   "cell_type": "code",
   "execution_count": 381,
   "metadata": {},
   "outputs": [
    {
     "data": {
      "text/plain": [
       "<matplotlib.axes._subplots.AxesSubplot at 0x1e428c28b88>"
      ]
     },
     "execution_count": 381,
     "metadata": {},
     "output_type": "execute_result"
    },
    {
     "data": {
      "image/png": "[encoded data removed]",
      "text/plain": [
       "<Figure size 432x288 with 1 Axes>"
      ]
     },
     "metadata": {
      "needs_background": "light"
     },
     "output_type": "display_data"
    }
   ],
   "source": [
    "sns.scatterplot(x=range(2,20), y=inertias)"
   ]
  },
  {
   "cell_type": "markdown",
   "metadata": {},
   "source": [
    "### Apply ATM 20 Topics "
   ]
  },
  {
   "cell_type": "code",
   "execution_count": 277,
   "metadata": {},
   "outputs": [
    {
     "name": "stdout",
     "output_type": "stream",
     "text": [
      "Wall time: 9min 24s\n"
     ]
    }
   ],
   "source": [
    "# Fit the model\n",
    "%time atm20 = AuthorTopicModel(corpus=corpus, num_topics=20, author2doc=customers_map)"
   ]
  },
  {
   "cell_type": "code",
   "execution_count": 382,
   "metadata": {},
   "outputs": [],
   "source": [
    "# Get the probability of all topics for each customer\n",
    "customer_topics = [atm20.get_author_topics(author) for author in customers_df.cust_id.unique()]"
   ]
  },
  {
   "cell_type": "code",
   "execution_count": 354,
   "metadata": {},
   "outputs": [],
   "source": [
    "atm20.save(fname='atm_20t_1')"
   ]
  },
  {
   "cell_type": "markdown",
   "metadata": {},
   "source": [
    "### KMeans for 20 topics "
   ]
  },
  {
   "cell_type": "code",
   "execution_count": 389,
   "metadata": {},
   "outputs": [],
   "source": [
    "km_models = []\n",
    "for no_clus in range(2,20):\n",
    "    # Fit the model\n",
    "    km_models.append(KMeans(n_clusters=no_clus,\n",
    "                           random_state=1).fit(customer_topics_df))"
   ]
  },
  {
   "cell_type": "code",
   "execution_count": 390,
   "metadata": {},
   "outputs": [],
   "source": [
    "scores = [silhouette_score(customer_topics_df, mod.labels_) for mod in km_models]"
   ]
  },
  {
   "cell_type": "code",
   "execution_count": 392,
   "metadata": {},
   "outputs": [
    {
     "data": {
      "text/plain": [
       "<matplotlib.axes._subplots.AxesSubplot at 0x1e427f96408>"
      ]
     },
     "execution_count": 392,
     "metadata": {},
     "output_type": "execute_result"
    },
    {
     "data": {
      "image/png": "[encoded data removed]",
      "text/plain": [
       "<Figure size 432x288 with 1 Axes>"
      ]
     },
     "metadata": {
      "needs_background": "light"
     },
     "output_type": "display_data"
    }
   ],
   "source": [
    "sns.scatterplot(x=range(2,20), y=scores)"
   ]
  },
  {
   "cell_type": "code",
   "execution_count": 393,
   "metadata": {},
   "outputs": [],
   "source": [
    "inertias = [mod.inertia_ for mod in km_models]"
   ]
  },
  {
   "cell_type": "code",
   "execution_count": 394,
   "metadata": {},
   "outputs": [
    {
     "data": {
      "text/plain": [
       "<matplotlib.axes._subplots.AxesSubplot at 0x1e427f4dec8>"
      ]
     },
     "execution_count": 394,
     "metadata": {},
     "output_type": "execute_result"
    },
    {
     "data": {
      "image/png": "[encoded data removed]",
      "text/plain": [
       "<Figure size 432x288 with 1 Axes>"
      ]
     },
     "metadata": {
      "needs_background": "light"
     },
     "output_type": "display_data"
    }
   ],
   "source": [
    "sns.scatterplot(x=range(2,20), y=inertias)"
   ]
  },
  {
   "cell_type": "markdown",
   "metadata": {},
   "source": [
    "### Fuzzy KMeans "
   ]
  },
  {
   "cell_type": "code",
   "execution_count": 428,
   "metadata": {},
   "outputs": [],
   "source": [
    "from sklearn.base import BaseEstimator\n",
    "from sklearn.utils import check_random_state\n",
    "from sklearn.cluster import MiniBatchKMeans\n",
    "from sklearn.cluster import KMeans as KMeansGood\n",
    "from sklearn.metrics.pairwise import euclidean_distances, manhattan_distances\n",
    "from sklearn.datasets.samples_generator import make_blobs\n",
    "\n",
    "class FuzzyKMeans(KMeans):\n",
    "\n",
    "    def __init__(self, k, m=2, max_iter=100, random_state=0, tol=1e-4):\n",
    "        \"\"\"\n",
    "        m > 1: fuzzy-ness parameter\n",
    "        The closer to m is to 1, the closter to hard kmeans.\n",
    "        The bigger m, the fuzzier (converge to the global cluster).\n",
    "        \"\"\"\n",
    "        self.k = k\n",
    "        assert m > 1\n",
    "        self.m = m\n",
    "        self.max_iter = max_iter\n",
    "        self.random_state = random_state\n",
    "        self.tol = tol\n",
    "\n",
    "    def _e_step(self, X):\n",
    "        D = 1.0 / euclidean_distances(X, self.cluster_centers_, squared=True)\n",
    "        D **= 1.0 / (self.m - 1)\n",
    "        D /= np.sum(D, axis=1)[:, np.newaxis]\n",
    "        # shape: n_samples x k\n",
    "        self.fuzzy_labels_ = D\n",
    "        self.labels_ = self.fuzzy_labels_.argmax(axis=1)\n",
    "\n",
    "    def _m_step(self, X):\n",
    "        weights = self.fuzzy_labels_ ** self.m\n",
    "        # shape: n_clusters x n_features\n",
    "        self.cluster_centers_ = np.dot(X.T, weights).T\n",
    "        self.cluster_centers_ /= weights.sum(axis=0)[:, np.newaxis]\n",
    "\n",
    "    def fit(self, X, y=None):\n",
    "        n_samples, n_features = X.shape\n",
    "        vdata = np.mean(np.var(X, 0))\n",
    "\n",
    "        random_state = check_random_state(self.random_state)\n",
    "        self.fuzzy_labels_ = random_state.rand(n_samples, self.k)\n",
    "        self.fuzzy_labels_ /= self.fuzzy_labels_.sum(axis=1)[:, np.newaxis]\n",
    "        self._m_step(X)\n",
    "\n",
    "        for i in range(self.max_iter):\n",
    "            centers_old = self.cluster_centers_.copy()\n",
    "\n",
    "            self._e_step(X)\n",
    "            self._m_step(X)\n",
    "\n",
    "            if np.sum((centers_old - self.cluster_centers_) ** 2) < self.tol * vdata:\n",
    "                break\n",
    "\n",
    "        return self"
   ]
  },
  {
   "cell_type": "code",
   "execution_count": 435,
   "metadata": {},
   "outputs": [
    {
     "data": {
      "text/plain": [
       "0.4302675192036046"
      ]
     },
     "execution_count": 435,
     "metadata": {},
     "output_type": "execute_result"
    }
   ],
   "source": [
    "silhouette_score(customer_topics_df, km_models[4].labels_)"
   ]
  },
  {
   "cell_type": "code",
   "execution_count": 436,
   "metadata": {},
   "outputs": [],
   "source": [
    "from sklearn.decomposition import PCA"
   ]
  },
  {
   "cell_type": "code",
   "execution_count": 443,
   "metadata": {},
   "outputs": [],
   "source": [
    "# PCA to extract 2 main components\n",
    "pca = PCA(n_components=3)\n",
    "X_pca = pca.fit_transform(customer_topics_df)"
   ]
  },
  {
   "cell_type": "code",
   "execution_count": 448,
   "metadata": {},
   "outputs": [
    {
     "data": {
      "image/png": "[encoded data removed]",
      "text/plain": [
       "<Figure size 432x288 with 1 Axes>"
      ]
     },
     "metadata": {
      "needs_background": "light"
     },
     "output_type": "display_data"
    }
   ],
   "source": [
    "from mpl_toolkits import mplot3d\n",
    "\n",
    "ax1 = plt.axes(projection='3d')\n",
    "ax1.view_init(60, 50)\n",
    "# Data for three-dimensional scattered points\n",
    "ax1.scatter3D(X_pca[:,0], X_pca[:,1], X_pca[:,2], c=km_models[4].labels_, cmap='Set1');"
   ]
  },
  {
   "cell_type": "markdown",
   "metadata": {},
   "source": [
    "### Making sense of the clusters using customer data "
   ]
  },
  {
   "cell_type": "markdown",
   "metadata": {},
   "source": [
    "Although we can't use the product data to find out what customers buy, we can use the customer data to explore characteristics of this customers. "
   ]
  },
  {
   "cell_type": "code",
   "execution_count": 538,
   "metadata": {},
   "outputs": [],
   "source": [
    "#Query products grouped by basket_id and prod_code_10\n",
    "customers_data = pd.read_sql('select Customers.cust_id,\\\n",
    "                             sum(Transactions.spend) as total_spend,\\\n",
    "                             sum(Transactions.quantity) as total_quantity,\\\n",
    "                             count(distinct Transactions.basket_id) as no_transactions,\\\n",
    "                             Customers.cust_lifestage,\\\n",
    "                             Customers.cust_price_sensitivity\\\n",
    "                             from Customers \\\n",
    "                             inner join Transactions on Customers.cust_id = Transactions.cust_id\\\n",
    "                             group by Customers.cust_id;', conn)"
   ]
  },
  {
   "cell_type": "code",
   "execution_count": 539,
   "metadata": {},
   "outputs": [
    {
     "data": {
      "text/html": [
       "<div>\n",
       "<style scoped>\n",
       "    .dataframe tbody tr th:only-of-type {\n",
       "        vertical-align: middle;\n",
       "    }\n",
       "\n",
       "    .dataframe tbody tr th {\n",
       "        vertical-align: top;\n",
       "    }\n",
       "\n",
       "    .dataframe thead th {\n",
       "        text-align: right;\n",
       "    }\n",
       "</style>\n",
       "<table border=\"1\" class=\"dataframe\">\n",
       "  <thead>\n",
       "    <tr style=\"text-align: right;\">\n",
       "      <th></th>\n",
       "      <th>total_spend</th>\n",
       "      <th>total_quantity</th>\n",
       "      <th>no_transactions</th>\n",
       "      <th>cust_lifestage</th>\n",
       "      <th>cust_price_sensitivity</th>\n",
       "    </tr>\n",
       "    <tr>\n",
       "      <th>cust_id</th>\n",
       "      <th></th>\n",
       "      <th></th>\n",
       "      <th></th>\n",
       "      <th></th>\n",
       "      <th></th>\n",
       "    </tr>\n",
       "  </thead>\n",
       "  <tbody>\n",
       "    <tr>\n",
       "      <td>CUST0000000013</td>\n",
       "      <td>160.32</td>\n",
       "      <td>122.0</td>\n",
       "      <td>12</td>\n",
       "      <td>YF</td>\n",
       "      <td>MM</td>\n",
       "    </tr>\n",
       "    <tr>\n",
       "      <td>CUST0000000055</td>\n",
       "      <td>433.65</td>\n",
       "      <td>320.0</td>\n",
       "      <td>15</td>\n",
       "      <td>YA</td>\n",
       "      <td>LA</td>\n",
       "    </tr>\n",
       "    <tr>\n",
       "      <td>CUST0000000679</td>\n",
       "      <td>85.63</td>\n",
       "      <td>78.0</td>\n",
       "      <td>14</td>\n",
       "      <td>OT</td>\n",
       "      <td>MM</td>\n",
       "    </tr>\n",
       "    <tr>\n",
       "      <td>CUST0000001052</td>\n",
       "      <td>260.92</td>\n",
       "      <td>98.0</td>\n",
       "      <td>31</td>\n",
       "      <td>PE</td>\n",
       "      <td>UM</td>\n",
       "    </tr>\n",
       "    <tr>\n",
       "      <td>CUST0000001058</td>\n",
       "      <td>71.50</td>\n",
       "      <td>46.0</td>\n",
       "      <td>2</td>\n",
       "      <td>OT</td>\n",
       "      <td>UM</td>\n",
       "    </tr>\n",
       "  </tbody>\n",
       "</table>\n",
       "</div>"
      ],
      "text/plain": [
       "                total_spend  total_quantity  no_transactions cust_lifestage  \\\n",
       "cust_id                                                                       \n",
       "CUST0000000013       160.32           122.0               12             YF   \n",
       "CUST0000000055       433.65           320.0               15             YA   \n",
       "CUST0000000679        85.63            78.0               14             OT   \n",
       "CUST0000001052       260.92            98.0               31             PE   \n",
       "CUST0000001058        71.50            46.0                2             OT   \n",
       "\n",
       "               cust_price_sensitivity  \n",
       "cust_id                                \n",
       "CUST0000000013                     MM  \n",
       "CUST0000000055                     LA  \n",
       "CUST0000000679                     MM  \n",
       "CUST0000001052                     UM  \n",
       "CUST0000001058                     UM  "
      ]
     },
     "execution_count": 539,
     "metadata": {},
     "output_type": "execute_result"
    }
   ],
   "source": [
    "customers_data.set_index('cust_id', inplace=True)\n",
    "customers_data.head()"
   ]
  },
  {
   "cell_type": "code",
   "execution_count": 540,
   "metadata": {},
   "outputs": [],
   "source": [
    "#Subset data to only customers we have\n",
    "customers_data = customers_data.loc[customers_df.cust_id.unique(),:]"
   ]
  },
  {
   "cell_type": "markdown",
   "metadata": {},
   "source": [
    "### How about spend, lifestage and shopping activity "
   ]
  },
  {
   "cell_type": "code",
   "execution_count": 542,
   "metadata": {},
   "outputs": [],
   "source": [
    "# Add the tags\n",
    "customers_data['atm_tag'] = km_models[4].labels_"
   ]
  },
  {
   "cell_type": "code",
   "execution_count": 543,
   "metadata": {},
   "outputs": [
    {
     "data": {
      "text/plain": [
       "1    0.380291\n",
       "0    0.149030\n",
       "2    0.137125\n",
       "4    0.119709\n",
       "3    0.117945\n",
       "5    0.095899\n",
       "Name: atm_tag, dtype: float64"
      ]
     },
     "execution_count": 543,
     "metadata": {},
     "output_type": "execute_result"
    }
   ],
   "source": [
    "# Get counts\n",
    "customers_data.atm_tag.value_counts(normalize=True)"
   ]
  },
  {
   "cell_type": "code",
   "execution_count": 544,
   "metadata": {},
   "outputs": [
    {
     "data": {
      "text/plain": [
       "atm_tag\n",
       "0    90314\n",
       "1    57467\n",
       "2    73553\n",
       "3    65759\n",
       "4    59042\n",
       "5    42486\n",
       "Name: no_transactions, dtype: int64"
      ]
     },
     "execution_count": 544,
     "metadata": {},
     "output_type": "execute_result"
    }
   ],
   "source": [
    "#ANalyze no_transactions\n",
    "customers_data.groupby('atm_tag')['no_transactions'].sum()"
   ]
  },
  {
   "cell_type": "code",
   "execution_count": 545,
   "metadata": {},
   "outputs": [
    {
     "data": {
      "text/plain": [
       "atm_tag\n",
       "0    12.573747\n",
       "1    13.026350\n",
       "2    12.086101\n",
       "3    11.844981\n",
       "4    12.814692\n",
       "5    12.211617\n",
       "dtype: float64"
      ]
     },
     "execution_count": 545,
     "metadata": {},
     "output_type": "execute_result"
    }
   ],
   "source": [
    "customers_data.groupby('atm_tag')['total_spend'].sum()/customers_data.groupby('atm_tag')['no_transactions'].sum()"
   ]
  },
  {
   "cell_type": "code",
   "execution_count": 536,
   "metadata": {},
   "outputs": [
    {
     "data": {
      "text/plain": [
       "atm_tag\n",
       "0    1135585.40\n",
       "1     748585.24\n",
       "2     888968.96\n",
       "3     778914.13\n",
       "4     756605.06\n",
       "5     518822.76\n",
       "Name: total_spend, dtype: float64"
      ]
     },
     "execution_count": 536,
     "metadata": {},
     "output_type": "execute_result"
    }
   ],
   "source": [
    "#ANalyze spend\n",
    "customers_data.groupby('atm_tag')['total_spend'].sum()"
   ]
  },
  {
   "cell_type": "code",
   "execution_count": 511,
   "metadata": {},
   "outputs": [
    {
     "data": {
      "text/plain": [
       "<matplotlib.axes._subplots.AxesSubplot at 0x1e4066e41c8>"
      ]
     },
     "execution_count": 511,
     "metadata": {},
     "output_type": "execute_result"
    },
    {
     "data": {
      "image/png": "[encoded data removed]",
      "text/plain": [
       "<Figure size 432x288 with 1 Axes>"
      ]
     },
     "metadata": {
      "needs_background": "light"
     },
     "output_type": "display_data"
    }
   ],
   "source": [
    "#Analyze customer segments\n",
    "\n",
    "ls_by_segment = customers_data.groupby(['atm_tag', 'cust_lifestage'])['no_transactions'].count().reset_index()\n",
    "\n",
    "sns.barplot(x='atm_tag', y='no_transactions', hue='cust_lifestage', \n",
    "            data=ls_by_segment)"
   ]
  },
  {
   "cell_type": "code",
   "execution_count": 510,
   "metadata": {},
   "outputs": [
    {
     "data": {
      "text/plain": [
       "<matplotlib.axes._subplots.AxesSubplot at 0x1e406672a88>"
      ]
     },
     "execution_count": 510,
     "metadata": {},
     "output_type": "execute_result"
    },
    {
     "data": {
      "image/png": "[encoded data removed]",
      "text/plain": [
       "<Figure size 432x288 with 1 Axes>"
      ]
     },
     "metadata": {
      "needs_background": "light"
     },
     "output_type": "display_data"
    }
   ],
   "source": [
    "#Analyze customer segments (exluding other)\n",
    "\n",
    "sns.barplot(x='atm_tag', y='no_transactions', hue='cust_lifestage', \n",
    "            data=ls_by_segment[ls_by_segment.cust_lifestage != 'OT'])"
   ]
  },
  {
   "cell_type": "code",
   "execution_count": 515,
   "metadata": {},
   "outputs": [
    {
     "data": {
      "text/html": [
       "<div>\n",
       "<style scoped>\n",
       "    .dataframe tbody tr th:only-of-type {\n",
       "        vertical-align: middle;\n",
       "    }\n",
       "\n",
       "    .dataframe tbody tr th {\n",
       "        vertical-align: top;\n",
       "    }\n",
       "\n",
       "    .dataframe thead tr th {\n",
       "        text-align: left;\n",
       "    }\n",
       "\n",
       "    .dataframe thead tr:last-of-type th {\n",
       "        text-align: right;\n",
       "    }\n",
       "</style>\n",
       "<table border=\"1\" class=\"dataframe\">\n",
       "  <thead>\n",
       "    <tr>\n",
       "      <th></th>\n",
       "      <th colspan=\"6\" halign=\"left\">no_transactions</th>\n",
       "    </tr>\n",
       "    <tr>\n",
       "      <th>cust_lifestage</th>\n",
       "      <th>OA</th>\n",
       "      <th>OF</th>\n",
       "      <th>OT</th>\n",
       "      <th>PE</th>\n",
       "      <th>YA</th>\n",
       "      <th>YF</th>\n",
       "    </tr>\n",
       "    <tr>\n",
       "      <th>atm_tag</th>\n",
       "      <th></th>\n",
       "      <th></th>\n",
       "      <th></th>\n",
       "      <th></th>\n",
       "      <th></th>\n",
       "      <th></th>\n",
       "    </tr>\n",
       "  </thead>\n",
       "  <tbody>\n",
       "    <tr>\n",
       "      <td>0</td>\n",
       "      <td>100</td>\n",
       "      <td>24</td>\n",
       "      <td>225</td>\n",
       "      <td>49</td>\n",
       "      <td>96</td>\n",
       "      <td>93</td>\n",
       "    </tr>\n",
       "    <tr>\n",
       "      <td>1</td>\n",
       "      <td>125</td>\n",
       "      <td>40</td>\n",
       "      <td>990</td>\n",
       "      <td>89</td>\n",
       "      <td>191</td>\n",
       "      <td>146</td>\n",
       "    </tr>\n",
       "    <tr>\n",
       "      <td>2</td>\n",
       "      <td>83</td>\n",
       "      <td>16</td>\n",
       "      <td>198</td>\n",
       "      <td>82</td>\n",
       "      <td>83</td>\n",
       "      <td>81</td>\n",
       "    </tr>\n",
       "    <tr>\n",
       "      <td>3</td>\n",
       "      <td>58</td>\n",
       "      <td>42</td>\n",
       "      <td>163</td>\n",
       "      <td>26</td>\n",
       "      <td>76</td>\n",
       "      <td>95</td>\n",
       "    </tr>\n",
       "    <tr>\n",
       "      <td>4</td>\n",
       "      <td>68</td>\n",
       "      <td>22</td>\n",
       "      <td>183</td>\n",
       "      <td>59</td>\n",
       "      <td>72</td>\n",
       "      <td>76</td>\n",
       "    </tr>\n",
       "    <tr>\n",
       "      <td>5</td>\n",
       "      <td>43</td>\n",
       "      <td>13</td>\n",
       "      <td>175</td>\n",
       "      <td>27</td>\n",
       "      <td>88</td>\n",
       "      <td>48</td>\n",
       "    </tr>\n",
       "  </tbody>\n",
       "</table>\n",
       "</div>"
      ],
      "text/plain": [
       "               no_transactions                       \n",
       "cust_lifestage              OA  OF   OT  PE   YA   YF\n",
       "atm_tag                                              \n",
       "0                          100  24  225  49   96   93\n",
       "1                          125  40  990  89  191  146\n",
       "2                           83  16  198  82   83   81\n",
       "3                           58  42  163  26   76   95\n",
       "4                           68  22  183  59   72   76\n",
       "5                           43  13  175  27   88   48"
      ]
     },
     "execution_count": 515,
     "metadata": {},
     "output_type": "execute_result"
    }
   ],
   "source": [
    "ls_by_segment.pivot_table(index='atm_tag', columns='cust_lifestage')"
   ]
  },
  {
   "cell_type": "markdown",
   "metadata": {},
   "source": [
    "#### What can I do with the topics? "
   ]
  },
  {
   "cell_type": "markdown",
   "metadata": {},
   "source": [
    "1. Cluster the baskets by topic and evaluate related information such as basket_tyoe, basket_price_sensitivity\n",
    "\n",
    "2. Given cluster baskets, evaluate how is the spend related to the new basket clusters.\n",
    "\n",
    "3. Cluster customers given the baskets cluster they usually buy.\n",
    "\n",
    "4. Recommend products to customers given what they have in their baskets and their usual topic."
   ]
  },
  {
   "cell_type": "code",
   "execution_count": null,
   "metadata": {},
   "outputs": [],
   "source": []
  }
 ],
 "metadata": {
  "kernelspec": {
   "display_name": "Python 3",
   "language": "python",
   "name": "python3"
  },
  "language_info": {
   "codemirror_mode": {
    "name": "ipython",
    "version": 3
   },
   "file_extension": ".py",
   "mimetype": "text/x-python",
   "name": "python",
   "nbconvert_exporter": "python",
   "pygments_lexer": "ipython3",
   "version": "3.7.4"
  }
 },
 "nbformat": 4,
 "nbformat_minor": 2
}
