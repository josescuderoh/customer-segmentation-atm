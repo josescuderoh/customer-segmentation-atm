{
 "cells": [
  {
   "cell_type": "markdown",
   "metadata": {},
   "source": [
    "# Set - up "
   ]
  },
  {
   "cell_type": "code",
   "execution_count": 52,
   "metadata": {},
   "outputs": [],
   "source": [
    "#Imports\n",
    "import pymysql\n",
    "import pandas as pd\n",
    "import numpy as np\n",
    "import datetime\n",
    "import matplotlib.pyplot as plt\n",
    "from sklearn.metrics import silhouette_score\n",
    "from gensim.sklearn_api.atmodel import AuthorTopicTransformer\n",
    "from sklearn.metrics import silhouette_score, silhouette_samples\n",
    "from gensim.corpora import Dictionary\n",
    "from sklearn.cluster import KMeans\n",
    "import seaborn as sns\n",
    "from gensim.models import AuthorTopicModel\n",
    "from sklearn.decomposition import PCA"
   ]
  },
  {
   "cell_type": "markdown",
   "metadata": {},
   "source": [
    "# Importing the data"
   ]
  },
  {
   "cell_type": "markdown",
   "metadata": {},
   "source": [
    "### Get basket data "
   ]
  },
  {
   "cell_type": "code",
   "execution_count": 2,
   "metadata": {},
   "outputs": [],
   "source": [
    "# Load the data for products inside baskets\n",
    "baskets_df = pd.read_csv('baskets.csv', index_col='basket_id')"
   ]
  },
  {
   "cell_type": "code",
   "execution_count": 3,
   "metadata": {},
   "outputs": [
    {
     "data": {
      "text/plain": [
       "(187188, 121)"
      ]
     },
     "execution_count": 3,
     "metadata": {},
     "output_type": "execute_result"
    }
   ],
   "source": [
    "baskets_df.shape"
   ]
  },
  {
   "cell_type": "markdown",
   "metadata": {},
   "source": [
    "### Get the customers data "
   ]
  },
  {
   "cell_type": "code",
   "execution_count": 4,
   "metadata": {},
   "outputs": [],
   "source": [
    "# Load the customer-to-basket map\n",
    "customers_df = pd.read_csv('customers.csv')"
   ]
  },
  {
   "cell_type": "code",
   "execution_count": 5,
   "metadata": {},
   "outputs": [
    {
     "data": {
      "text/plain": [
       "(187188, 2)"
      ]
     },
     "execution_count": 5,
     "metadata": {},
     "output_type": "execute_result"
    }
   ],
   "source": [
    "customers_df.shape"
   ]
  },
  {
   "cell_type": "markdown",
   "metadata": {},
   "source": [
    "# Author-Topic Modeling "
   ]
  },
  {
   "cell_type": "markdown",
   "metadata": {},
   "source": [
    "###  Prepare the data for the model"
   ]
  },
  {
   "cell_type": "code",
   "execution_count": 6,
   "metadata": {},
   "outputs": [
    {
     "data": {
      "text/html": [
       "<div>\n",
       "<style scoped>\n",
       "    .dataframe tbody tr th:only-of-type {\n",
       "        vertical-align: middle;\n",
       "    }\n",
       "\n",
       "    .dataframe tbody tr th {\n",
       "        vertical-align: top;\n",
       "    }\n",
       "\n",
       "    .dataframe thead th {\n",
       "        text-align: right;\n",
       "    }\n",
       "</style>\n",
       "<table border=\"1\" class=\"dataframe\">\n",
       "  <thead>\n",
       "    <tr style=\"text-align: right;\">\n",
       "      <th></th>\n",
       "      <th>CL00001</th>\n",
       "      <th>CL00002</th>\n",
       "      <th>CL00003</th>\n",
       "      <th>CL00006</th>\n",
       "      <th>CL00007</th>\n",
       "      <th>CL00008</th>\n",
       "      <th>CL00010</th>\n",
       "      <th>CL00013</th>\n",
       "      <th>CL00014</th>\n",
       "      <th>CL00015</th>\n",
       "      <th>...</th>\n",
       "      <th>CL00205</th>\n",
       "      <th>CL00207</th>\n",
       "      <th>CL00209</th>\n",
       "      <th>CL00212</th>\n",
       "      <th>CL00214</th>\n",
       "      <th>CL00218</th>\n",
       "      <th>CL00219</th>\n",
       "      <th>CL00222</th>\n",
       "      <th>CL00229</th>\n",
       "      <th>CL00235</th>\n",
       "    </tr>\n",
       "    <tr>\n",
       "      <th>basket_id</th>\n",
       "      <th></th>\n",
       "      <th></th>\n",
       "      <th></th>\n",
       "      <th></th>\n",
       "      <th></th>\n",
       "      <th></th>\n",
       "      <th></th>\n",
       "      <th></th>\n",
       "      <th></th>\n",
       "      <th></th>\n",
       "      <th></th>\n",
       "      <th></th>\n",
       "      <th></th>\n",
       "      <th></th>\n",
       "      <th></th>\n",
       "      <th></th>\n",
       "      <th></th>\n",
       "      <th></th>\n",
       "      <th></th>\n",
       "      <th></th>\n",
       "      <th></th>\n",
       "    </tr>\n",
       "  </thead>\n",
       "  <tbody>\n",
       "    <tr>\n",
       "      <td>994100100153442</td>\n",
       "      <td>0</td>\n",
       "      <td>0</td>\n",
       "      <td>0</td>\n",
       "      <td>1</td>\n",
       "      <td>0</td>\n",
       "      <td>0</td>\n",
       "      <td>0</td>\n",
       "      <td>0</td>\n",
       "      <td>0</td>\n",
       "      <td>0</td>\n",
       "      <td>...</td>\n",
       "      <td>0</td>\n",
       "      <td>0</td>\n",
       "      <td>0</td>\n",
       "      <td>0</td>\n",
       "      <td>0</td>\n",
       "      <td>0</td>\n",
       "      <td>0</td>\n",
       "      <td>0</td>\n",
       "      <td>0</td>\n",
       "      <td>0</td>\n",
       "    </tr>\n",
       "    <tr>\n",
       "      <td>994100100153740</td>\n",
       "      <td>0</td>\n",
       "      <td>0</td>\n",
       "      <td>0</td>\n",
       "      <td>0</td>\n",
       "      <td>0</td>\n",
       "      <td>0</td>\n",
       "      <td>0</td>\n",
       "      <td>0</td>\n",
       "      <td>0</td>\n",
       "      <td>0</td>\n",
       "      <td>...</td>\n",
       "      <td>0</td>\n",
       "      <td>0</td>\n",
       "      <td>0</td>\n",
       "      <td>0</td>\n",
       "      <td>0</td>\n",
       "      <td>0</td>\n",
       "      <td>0</td>\n",
       "      <td>0</td>\n",
       "      <td>0</td>\n",
       "      <td>0</td>\n",
       "    </tr>\n",
       "    <tr>\n",
       "      <td>994100100154465</td>\n",
       "      <td>0</td>\n",
       "      <td>0</td>\n",
       "      <td>0</td>\n",
       "      <td>0</td>\n",
       "      <td>0</td>\n",
       "      <td>0</td>\n",
       "      <td>0</td>\n",
       "      <td>0</td>\n",
       "      <td>0</td>\n",
       "      <td>0</td>\n",
       "      <td>...</td>\n",
       "      <td>0</td>\n",
       "      <td>0</td>\n",
       "      <td>0</td>\n",
       "      <td>0</td>\n",
       "      <td>0</td>\n",
       "      <td>0</td>\n",
       "      <td>0</td>\n",
       "      <td>0</td>\n",
       "      <td>0</td>\n",
       "      <td>0</td>\n",
       "    </tr>\n",
       "    <tr>\n",
       "      <td>994100100155062</td>\n",
       "      <td>1</td>\n",
       "      <td>0</td>\n",
       "      <td>0</td>\n",
       "      <td>0</td>\n",
       "      <td>0</td>\n",
       "      <td>0</td>\n",
       "      <td>0</td>\n",
       "      <td>0</td>\n",
       "      <td>0</td>\n",
       "      <td>0</td>\n",
       "      <td>...</td>\n",
       "      <td>0</td>\n",
       "      <td>0</td>\n",
       "      <td>0</td>\n",
       "      <td>0</td>\n",
       "      <td>0</td>\n",
       "      <td>0</td>\n",
       "      <td>0</td>\n",
       "      <td>0</td>\n",
       "      <td>0</td>\n",
       "      <td>0</td>\n",
       "    </tr>\n",
       "    <tr>\n",
       "      <td>994100100155064</td>\n",
       "      <td>0</td>\n",
       "      <td>0</td>\n",
       "      <td>0</td>\n",
       "      <td>0</td>\n",
       "      <td>0</td>\n",
       "      <td>0</td>\n",
       "      <td>0</td>\n",
       "      <td>0</td>\n",
       "      <td>0</td>\n",
       "      <td>0</td>\n",
       "      <td>...</td>\n",
       "      <td>0</td>\n",
       "      <td>0</td>\n",
       "      <td>0</td>\n",
       "      <td>0</td>\n",
       "      <td>0</td>\n",
       "      <td>0</td>\n",
       "      <td>0</td>\n",
       "      <td>0</td>\n",
       "      <td>0</td>\n",
       "      <td>0</td>\n",
       "    </tr>\n",
       "  </tbody>\n",
       "</table>\n",
       "<p>5 rows × 121 columns</p>\n",
       "</div>"
      ],
      "text/plain": [
       "                 CL00001  CL00002  CL00003  CL00006  CL00007  CL00008  \\\n",
       "basket_id                                                               \n",
       "994100100153442        0        0        0        1        0        0   \n",
       "994100100153740        0        0        0        0        0        0   \n",
       "994100100154465        0        0        0        0        0        0   \n",
       "994100100155062        1        0        0        0        0        0   \n",
       "994100100155064        0        0        0        0        0        0   \n",
       "\n",
       "                 CL00010  CL00013  CL00014  CL00015  ...  CL00205  CL00207  \\\n",
       "basket_id                                            ...                     \n",
       "994100100153442        0        0        0        0  ...        0        0   \n",
       "994100100153740        0        0        0        0  ...        0        0   \n",
       "994100100154465        0        0        0        0  ...        0        0   \n",
       "994100100155062        0        0        0        0  ...        0        0   \n",
       "994100100155064        0        0        0        0  ...        0        0   \n",
       "\n",
       "                 CL00209  CL00212  CL00214  CL00218  CL00219  CL00222  \\\n",
       "basket_id                                                               \n",
       "994100100153442        0        0        0        0        0        0   \n",
       "994100100153740        0        0        0        0        0        0   \n",
       "994100100154465        0        0        0        0        0        0   \n",
       "994100100155062        0        0        0        0        0        0   \n",
       "994100100155064        0        0        0        0        0        0   \n",
       "\n",
       "                 CL00229  CL00235  \n",
       "basket_id                          \n",
       "994100100153442        0        0  \n",
       "994100100153740        0        0  \n",
       "994100100154465        0        0  \n",
       "994100100155062        0        0  \n",
       "994100100155064        0        0  \n",
       "\n",
       "[5 rows x 121 columns]"
      ]
     },
     "execution_count": 6,
     "metadata": {},
     "output_type": "execute_result"
    }
   ],
   "source": [
    "baskets_df.head()"
   ]
  },
  {
   "cell_type": "markdown",
   "metadata": {},
   "source": [
    "In order to apply gensim's `atmodel`, we need to convert our `baskets_df` frequency dataframe to a list of lists containing the products per basket. Here, we are going to use the name of each product as many times as it appears in a basket. "
   ]
  },
  {
   "cell_type": "code",
   "execution_count": 8,
   "metadata": {},
   "outputs": [
    {
     "name": "stdout",
     "output_type": "stream",
     "text": [
      "0.0\n",
      "0.27\n",
      "0.53\n",
      "0.8\n"
     ]
    }
   ],
   "source": [
    "# Create the list\n",
    "corpus_list = []\n",
    "\n",
    "#Iterate over all the rows to create the list of products (basket)\n",
    "for pos, row in enumerate(baskets_df.iterrows()):\n",
    "    # Create a list with all the tokens (products) for each basket\n",
    "    corpus_list.append([col for col in baskets_df.columns \\\n",
    "                        for x in range(baskets_df.loc[row[0], col])])\n",
    "    \n",
    "    #Status flag just to know the status of the process\n",
    "    if pos % 50000 == 0:\n",
    "        print(round(pos/(baskets_df.shape[0]-1),2))"
   ]
  },
  {
   "cell_type": "markdown",
   "metadata": {},
   "source": [
    "This process could be further optimized since the `iterrows()` is known to be quite slow for large datasets, however, meets our current needs. This is a future improvement."
   ]
  },
  {
   "cell_type": "code",
   "execution_count": 9,
   "metadata": {},
   "outputs": [],
   "source": [
    "# Create dictionary object with this corpus list, which is required by the ATM model\n",
    "dictionary = Dictionary(corpus_list)"
   ]
  },
  {
   "cell_type": "markdown",
   "metadata": {},
   "source": [
    "This dictionary maps every single toke (product) of our dataset to an ID for building the bag-of-words representation in the next step. "
   ]
  },
  {
   "cell_type": "code",
   "execution_count": 13,
   "metadata": {},
   "outputs": [],
   "source": [
    "# Translate the corpus into a bag of words format (required by gensim)\n",
    "corpus = [dictionary.doc2bow(doc) for doc in corpus_list]"
   ]
  },
  {
   "cell_type": "code",
   "execution_count": 15,
   "metadata": {},
   "outputs": [
    {
     "data": {
      "text/plain": [
       "[(1, 1),\n",
       " (3, 1),\n",
       " (4, 1),\n",
       " (6, 1),\n",
       " (9, 1),\n",
       " (12, 1),\n",
       " (18, 1),\n",
       " (19, 1),\n",
       " (20, 1),\n",
       " (21, 1),\n",
       " (22, 2),\n",
       " (23, 1),\n",
       " (24, 2),\n",
       " (25, 1)]"
      ]
     },
     "execution_count": 15,
     "metadata": {},
     "output_type": "execute_result"
    }
   ],
   "source": [
    "#Check the format\n",
    "corpus[1]"
   ]
  },
  {
   "cell_type": "markdown",
   "metadata": {},
   "source": [
    "This is the second basket that contains multiple products with different IDs and here the product count is added. Now, the model requires a map to all the baskets purchased by each customer using the index (orden of appearance for each basket in the corpus).  "
   ]
  },
  {
   "cell_type": "code",
   "execution_count": 18,
   "metadata": {},
   "outputs": [],
   "source": [
    "# Add an index to the baskets using the trim_row_counts dataframe\n",
    "baskets_map = baskets_df.reset_index()['basket_id'].reset_index()"
   ]
  },
  {
   "cell_type": "code",
   "execution_count": 20,
   "metadata": {},
   "outputs": [],
   "source": [
    "# Append the index to the customers_df data (to add the index to the basket_id)\n",
    "customers_df = customers_df.merge(baskets_map, on='basket_id')"
   ]
  },
  {
   "cell_type": "markdown",
   "metadata": {},
   "source": [
    "Now we will loop through the customers and store the customer to basket index map to feed the ATM model. This lets the model know which customer bought each of the baskets by assigning the index of the basket to the customer.\n"
   ]
  },
  {
   "cell_type": "code",
   "execution_count": 21,
   "metadata": {},
   "outputs": [],
   "source": [
    "#Create map\n",
    "customers_map = {}\n",
    "\n",
    "#Loop over customers\n",
    "for cust in customers_df.cust_id.unique():\n",
    "        customers_map[cust] = customers_df.loc[customers_df.cust_id==cust,'index'].to_list()"
   ]
  },
  {
   "cell_type": "code",
   "execution_count": 24,
   "metadata": {},
   "outputs": [
    {
     "data": {
      "text/plain": [
       "[86241, 94491, 106053, 125466, 130163, 131778, 148733, 150252]"
      ]
     },
     "execution_count": 24,
     "metadata": {},
     "output_type": "execute_result"
    }
   ],
   "source": [
    "#Let's take a look at an example\n",
    "customers_map['CUST0000000013']"
   ]
  },
  {
   "cell_type": "markdown",
   "metadata": {},
   "source": [
    "Customer `CUST0000000013` bought all the baskets with the index shown before. "
   ]
  },
  {
   "cell_type": "code",
   "execution_count": 26,
   "metadata": {},
   "outputs": [
    {
     "name": "stdout",
     "output_type": "stream",
     "text": [
      "Number of authors: 4522\n",
      "Number of unique tokens: 121\n",
      "Number of baskets: 187188\n"
     ]
    }
   ],
   "source": [
    "# Get a summary of the data to feed the model\n",
    "print('Number of authors: %d' % len(customers_map))\n",
    "print('Number of unique tokens: %d' % len(dictionary))\n",
    "print('Number of baskets: %d' % len(corpus))"
   ]
  },
  {
   "cell_type": "markdown",
   "metadata": {},
   "source": [
    "### Apply ATM with  5, 10, 20 and 30 topics and evaluate "
   ]
  },
  {
   "cell_type": "code",
   "execution_count": 36,
   "metadata": {},
   "outputs": [],
   "source": [
    "#Define the number of topics\n",
    "no_topics = [10, 20, 30]"
   ]
  },
  {
   "cell_type": "code",
   "execution_count": 42,
   "metadata": {},
   "outputs": [
    {
     "name": "stdout",
     "output_type": "stream",
     "text": [
      "Model with 10 topics appended...\n",
      "Model with 10 topics appended...\n",
      "Model with 10 topics appended...\n",
      "Wall time: 28min 4s\n"
     ]
    }
   ],
   "source": [
    "%%time\n",
    "#Store models\n",
    "models = []\n",
    "\n",
    "for num in no_topics:\n",
    "    idx=0\n",
    "    model_dict = {}\n",
    "    # Fit the model\n",
    "    model_dict['model'] = AuthorTopicModel(corpus=corpus, num_topics=num, author2doc=customers_map, random_state=42)\n",
    "    \n",
    "    # Get the probability of topics for each customer\n",
    "    customer_topics = [model_dict['model'].get_author_topics(author) for author in customers_df.cust_id.unique()]\n",
    "    \n",
    "    #Map customer topics into dataframe\n",
    "    for i in range(len(customer_topics)):\n",
    "        if i==0:\n",
    "            customer_topics_df = pd.DataFrame(customer_topics[i]).set_index(0).T\n",
    "        else:\n",
    "            customer_topics_df = customer_topics_df.append(pd.DataFrame(customer_topics[i]).set_index(0).T)\n",
    "\n",
    "    # Fill NAs with zero\n",
    "    customer_topics_df.fillna(0, inplace=True)        \n",
    "            \n",
    "    #Save to dict\n",
    "    model_dict['topics_df'] = customer_topics_df\n",
    "    \n",
    "    # Append model dictionary to list\n",
    "    models.append(model_dict)\n",
    "    print(f'Model with {no_topics[idx]} topics appended...')\n",
    "    idx+=1"
   ]
  },
  {
   "cell_type": "markdown",
   "metadata": {},
   "source": [
    "Now we are going to evaluate the model for topic coherence using the `top_topics` method and picking the model with the highest coherence as given by gensim. "
   ]
  },
  {
   "cell_type": "code",
   "execution_count": 45,
   "metadata": {},
   "outputs": [
    {
     "name": "stdout",
     "output_type": "stream",
     "text": [
      "Wall time: 13.3 s\n"
     ]
    }
   ],
   "source": [
    "%%time\n",
    "model_list = [mod['model'] for mod in models]\n",
    "model_scores = []\n",
    "\n",
    "for model in model_list:\n",
    "    #Get the top topics\n",
    "    top_topics = model.top_topics(corpus=corpus, dictionary=dictionary)\n",
    "    # Get the topic coherence for the top topics and sum \n",
    "    tc = sum([t[1] for t in top_topics])\n",
    "    # Append \n",
    "    model_scores.append(tc)"
   ]
  },
  {
   "cell_type": "code",
   "execution_count": 47,
   "metadata": {},
   "outputs": [
    {
     "name": "stdout",
     "output_type": "stream",
     "text": [
      "Topic coherence: -1.880e+01\n"
     ]
    }
   ],
   "source": [
    "# Choose the model with highest coherence\n",
    "top_index = np.argmax(model_scores)\n",
    "print('Topic coherence: %.3e' %model_scores[top_index])"
   ]
  },
  {
   "cell_type": "markdown",
   "metadata": {},
   "source": [
    "Now that we have chosen our best mode, we can store it for later use if needed in order to preserve reproducibility. "
   ]
  },
  {
   "cell_type": "code",
   "execution_count": 49,
   "metadata": {},
   "outputs": [
    {
     "data": {
      "text/plain": [
       "0"
      ]
     },
     "execution_count": 49,
     "metadata": {},
     "output_type": "execute_result"
    }
   ],
   "source": [
    "#Best model\n",
    "top_index"
   ]
  },
  {
   "cell_type": "code",
   "execution_count": 50,
   "metadata": {},
   "outputs": [],
   "source": [
    "# Save model.\n",
    "model_list[top_index].save('model.atmodel')"
   ]
  },
  {
   "cell_type": "code",
   "execution_count": 51,
   "metadata": {},
   "outputs": [],
   "source": [
    "# Load model.\n",
    "model = AuthorTopicModel.load('model.atmodel')"
   ]
  },
  {
   "cell_type": "markdown",
   "metadata": {},
   "source": [
    "### Random initializations for 5 topics "
   ]
  },
  {
   "cell_type": "code",
   "execution_count": 61,
   "metadata": {},
   "outputs": [],
   "source": [
    "## TBD"
   ]
  },
  {
   "cell_type": "markdown",
   "metadata": {},
   "source": [
    "### KMeans for 5 topics "
   ]
  },
  {
   "cell_type": "code",
   "execution_count": 53,
   "metadata": {},
   "outputs": [],
   "source": [
    "km_models = []\n",
    "for no_clus in range(2,20):\n",
    "    # Fit the model\n",
    "    km_models.append(KMeans(n_clusters=no_clus,\n",
    "                           random_state=1).fit(models[top_index]['topics_df']))"
   ]
  },
  {
   "cell_type": "code",
   "execution_count": 56,
   "metadata": {},
   "outputs": [],
   "source": [
    "scores = [silhouette_score(models[top_index]['topics_df'], mod.labels_) for mod in km_models]"
   ]
  },
  {
   "cell_type": "code",
   "execution_count": 57,
   "metadata": {},
   "outputs": [
    {
     "data": {
      "text/plain": [
       "<matplotlib.axes._subplots.AxesSubplot at 0x236da9b0688>"
      ]
     },
     "execution_count": 57,
     "metadata": {},
     "output_type": "execute_result"
    },
    {
     "data": {
      "image/png": "[encoded data removed]",
      "text/plain": [
       "<Figure size 432x288 with 1 Axes>"
      ]
     },
     "metadata": {
      "needs_background": "light"
     },
     "output_type": "display_data"
    }
   ],
   "source": [
    "sns.scatterplot(x=range(2,20), y=scores)"
   ]
  },
  {
   "cell_type": "code",
   "execution_count": 58,
   "metadata": {},
   "outputs": [],
   "source": [
    "inertias = [mod.inertia_ for mod in km_models]"
   ]
  },
  {
   "cell_type": "code",
   "execution_count": 59,
   "metadata": {},
   "outputs": [
    {
     "data": {
      "text/plain": [
       "<matplotlib.axes._subplots.AxesSubplot at 0x2368c2fcb48>"
      ]
     },
     "execution_count": 59,
     "metadata": {},
     "output_type": "execute_result"
    },
    {
     "data": {
      "image/png": "[encoded data removed]",
      "text/plain": [
       "<Figure size 432x288 with 1 Axes>"
      ]
     },
     "metadata": {
      "needs_background": "light"
     },
     "output_type": "display_data"
    }
   ],
   "source": [
    "sns.scatterplot(x=range(2,20), y=inertias)"
   ]
  },
  {
   "cell_type": "code",
   "execution_count": 60,
   "metadata": {},
   "outputs": [
    {
     "data": {
      "text/plain": [
       "0.39966307665903034"
      ]
     },
     "execution_count": 60,
     "metadata": {},
     "output_type": "execute_result"
    }
   ],
   "source": [
    "# Get the silhouette score for the best model\n",
    "best_score_idx = np.argmax(scores)\n",
    "silhouette_score(models[top_index]['topics_df'], km_models[best_score_idx].labels_)"
   ]
  },
  {
   "cell_type": "markdown",
   "metadata": {},
   "source": [
    "### Visualizing our clusters "
   ]
  },
  {
   "cell_type": "code",
   "execution_count": 63,
   "metadata": {},
   "outputs": [],
   "source": [
    "# PCA to extract 2 main components\n",
    "pca = PCA(n_components=3)\n",
    "X_pca = pca.fit_transform(models[top_index]['topics_df'])"
   ]
  },
  {
   "cell_type": "code",
   "execution_count": 65,
   "metadata": {},
   "outputs": [
    {
     "data": {
      "image/png": "[encoded data removed]",
      "text/plain": [
       "<Figure size 432x288 with 1 Axes>"
      ]
     },
     "metadata": {
      "needs_background": "light"
     },
     "output_type": "display_data"
    }
   ],
   "source": [
    "from mpl_toolkits import mplot3d\n",
    "\n",
    "ax1 = plt.axes(projection='3d')\n",
    "ax1.view_init(60, 20)\n",
    "# Data for three-dimensional scattered points\n",
    "ax1.scatter3D(X_pca[:,0], X_pca[:,1], X_pca[:,2], c=km_models[4].labels_, cmap='Set1');"
   ]
  },
  {
   "cell_type": "markdown",
   "metadata": {},
   "source": [
    "### Making sense of the clusters using customer data "
   ]
  },
  {
   "cell_type": "markdown",
   "metadata": {},
   "source": [
    "Although we can't use the product data to find out what customers buy, we can use the customer data to explore characteristics of this customers. "
   ]
  },
  {
   "cell_type": "code",
   "execution_count": 538,
   "metadata": {},
   "outputs": [],
   "source": [
    "#Query products grouped by basket_id and prod_code_10\n",
    "customers_data = pd.read_sql('select Customers.cust_id,\\\n",
    "                             sum(Transactions.spend) as total_spend,\\\n",
    "                             sum(Transactions.quantity) as total_quantity,\\\n",
    "                             count(distinct Transactions.basket_id) as no_transactions,\\\n",
    "                             Customers.cust_lifestage,\\\n",
    "                             Customers.cust_price_sensitivity\\\n",
    "                             from Customers \\\n",
    "                             inner join Transactions on Customers.cust_id = Transactions.cust_id\\\n",
    "                             group by Customers.cust_id;', conn)"
   ]
  },
  {
   "cell_type": "code",
   "execution_count": 539,
   "metadata": {},
   "outputs": [
    {
     "data": {
      "text/html": [
       "<div>\n",
       "<style scoped>\n",
       "    .dataframe tbody tr th:only-of-type {\n",
       "        vertical-align: middle;\n",
       "    }\n",
       "\n",
       "    .dataframe tbody tr th {\n",
       "        vertical-align: top;\n",
       "    }\n",
       "\n",
       "    .dataframe thead th {\n",
       "        text-align: right;\n",
       "    }\n",
       "</style>\n",
       "<table border=\"1\" class=\"dataframe\">\n",
       "  <thead>\n",
       "    <tr style=\"text-align: right;\">\n",
       "      <th></th>\n",
       "      <th>total_spend</th>\n",
       "      <th>total_quantity</th>\n",
       "      <th>no_transactions</th>\n",
       "      <th>cust_lifestage</th>\n",
       "      <th>cust_price_sensitivity</th>\n",
       "    </tr>\n",
       "    <tr>\n",
       "      <th>cust_id</th>\n",
       "      <th></th>\n",
       "      <th></th>\n",
       "      <th></th>\n",
       "      <th></th>\n",
       "      <th></th>\n",
       "    </tr>\n",
       "  </thead>\n",
       "  <tbody>\n",
       "    <tr>\n",
       "      <td>CUST0000000013</td>\n",
       "      <td>160.32</td>\n",
       "      <td>122.0</td>\n",
       "      <td>12</td>\n",
       "      <td>YF</td>\n",
       "      <td>MM</td>\n",
       "    </tr>\n",
       "    <tr>\n",
       "      <td>CUST0000000055</td>\n",
       "      <td>433.65</td>\n",
       "      <td>320.0</td>\n",
       "      <td>15</td>\n",
       "      <td>YA</td>\n",
       "      <td>LA</td>\n",
       "    </tr>\n",
       "    <tr>\n",
       "      <td>CUST0000000679</td>\n",
       "      <td>85.63</td>\n",
       "      <td>78.0</td>\n",
       "      <td>14</td>\n",
       "      <td>OT</td>\n",
       "      <td>MM</td>\n",
       "    </tr>\n",
       "    <tr>\n",
       "      <td>CUST0000001052</td>\n",
       "      <td>260.92</td>\n",
       "      <td>98.0</td>\n",
       "      <td>31</td>\n",
       "      <td>PE</td>\n",
       "      <td>UM</td>\n",
       "    </tr>\n",
       "    <tr>\n",
       "      <td>CUST0000001058</td>\n",
       "      <td>71.50</td>\n",
       "      <td>46.0</td>\n",
       "      <td>2</td>\n",
       "      <td>OT</td>\n",
       "      <td>UM</td>\n",
       "    </tr>\n",
       "  </tbody>\n",
       "</table>\n",
       "</div>"
      ],
      "text/plain": [
       "                total_spend  total_quantity  no_transactions cust_lifestage  \\\n",
       "cust_id                                                                       \n",
       "CUST0000000013       160.32           122.0               12             YF   \n",
       "CUST0000000055       433.65           320.0               15             YA   \n",
       "CUST0000000679        85.63            78.0               14             OT   \n",
       "CUST0000001052       260.92            98.0               31             PE   \n",
       "CUST0000001058        71.50            46.0                2             OT   \n",
       "\n",
       "               cust_price_sensitivity  \n",
       "cust_id                                \n",
       "CUST0000000013                     MM  \n",
       "CUST0000000055                     LA  \n",
       "CUST0000000679                     MM  \n",
       "CUST0000001052                     UM  \n",
       "CUST0000001058                     UM  "
      ]
     },
     "execution_count": 539,
     "metadata": {},
     "output_type": "execute_result"
    }
   ],
   "source": [
    "customers_data.set_index('cust_id', inplace=True)\n",
    "customers_data.head()"
   ]
  },
  {
   "cell_type": "code",
   "execution_count": 540,
   "metadata": {},
   "outputs": [],
   "source": [
    "#Subset data to only customers we have\n",
    "customers_data = customers_data.loc[customers_df.cust_id.unique(),:]"
   ]
  },
  {
   "cell_type": "markdown",
   "metadata": {},
   "source": [
    "### How about spend, lifestage and shopping activity "
   ]
  },
  {
   "cell_type": "code",
   "execution_count": 542,
   "metadata": {},
   "outputs": [],
   "source": [
    "# Add the tags\n",
    "customers_data['atm_tag'] = km_models[4].labels_"
   ]
  },
  {
   "cell_type": "code",
   "execution_count": 543,
   "metadata": {},
   "outputs": [
    {
     "data": {
      "text/plain": [
       "1    0.380291\n",
       "0    0.149030\n",
       "2    0.137125\n",
       "4    0.119709\n",
       "3    0.117945\n",
       "5    0.095899\n",
       "Name: atm_tag, dtype: float64"
      ]
     },
     "execution_count": 543,
     "metadata": {},
     "output_type": "execute_result"
    }
   ],
   "source": [
    "# Get counts\n",
    "customers_data.atm_tag.value_counts(normalize=True)"
   ]
  },
  {
   "cell_type": "code",
   "execution_count": 544,
   "metadata": {},
   "outputs": [
    {
     "data": {
      "text/plain": [
       "atm_tag\n",
       "0    90314\n",
       "1    57467\n",
       "2    73553\n",
       "3    65759\n",
       "4    59042\n",
       "5    42486\n",
       "Name: no_transactions, dtype: int64"
      ]
     },
     "execution_count": 544,
     "metadata": {},
     "output_type": "execute_result"
    }
   ],
   "source": [
    "#ANalyze no_transactions\n",
    "customers_data.groupby('atm_tag')['no_transactions'].sum()"
   ]
  },
  {
   "cell_type": "code",
   "execution_count": 545,
   "metadata": {},
   "outputs": [
    {
     "data": {
      "text/plain": [
       "atm_tag\n",
       "0    12.573747\n",
       "1    13.026350\n",
       "2    12.086101\n",
       "3    11.844981\n",
       "4    12.814692\n",
       "5    12.211617\n",
       "dtype: float64"
      ]
     },
     "execution_count": 545,
     "metadata": {},
     "output_type": "execute_result"
    }
   ],
   "source": [
    "customers_data.groupby('atm_tag')['total_spend'].sum()/customers_data.groupby('atm_tag')['no_transactions'].sum()"
   ]
  },
  {
   "cell_type": "code",
   "execution_count": 536,
   "metadata": {},
   "outputs": [
    {
     "data": {
      "text/plain": [
       "atm_tag\n",
       "0    1135585.40\n",
       "1     748585.24\n",
       "2     888968.96\n",
       "3     778914.13\n",
       "4     756605.06\n",
       "5     518822.76\n",
       "Name: total_spend, dtype: float64"
      ]
     },
     "execution_count": 536,
     "metadata": {},
     "output_type": "execute_result"
    }
   ],
   "source": [
    "#ANalyze spend\n",
    "customers_data.groupby('atm_tag')['total_spend'].sum()"
   ]
  },
  {
   "cell_type": "code",
   "execution_count": 511,
   "metadata": {},
   "outputs": [
    {
     "data": {
      "text/plain": [
       "<matplotlib.axes._subplots.AxesSubplot at 0x1e4066e41c8>"
      ]
     },
     "execution_count": 511,
     "metadata": {},
     "output_type": "execute_result"
    },
    {
     "data": {
      "image/png": "[encoded data removed]",
      "text/plain": [
       "<Figure size 432x288 with 1 Axes>"
      ]
     },
     "metadata": {
      "needs_background": "light"
     },
     "output_type": "display_data"
    }
   ],
   "source": [
    "#Analyze customer segments\n",
    "\n",
    "ls_by_segment = customers_data.groupby(['atm_tag', 'cust_lifestage'])['no_transactions'].count().reset_index()\n",
    "\n",
    "sns.barplot(x='atm_tag', y='no_transactions', hue='cust_lifestage', \n",
    "            data=ls_by_segment)"
   ]
  },
  {
   "cell_type": "code",
   "execution_count": 510,
   "metadata": {},
   "outputs": [
    {
     "data": {
      "text/plain": [
       "<matplotlib.axes._subplots.AxesSubplot at 0x1e406672a88>"
      ]
     },
     "execution_count": 510,
     "metadata": {},
     "output_type": "execute_result"
    },
    {
     "data": {
      "image/png": "[encoded data removed]",
      "text/plain": [
       "<Figure size 432x288 with 1 Axes>"
      ]
     },
     "metadata": {
      "needs_background": "light"
     },
     "output_type": "display_data"
    }
   ],
   "source": [
    "#Analyze customer segments (exluding other)\n",
    "\n",
    "sns.barplot(x='atm_tag', y='no_transactions', hue='cust_lifestage', \n",
    "            data=ls_by_segment[ls_by_segment.cust_lifestage != 'OT'])"
   ]
  },
  {
   "cell_type": "code",
   "execution_count": 515,
   "metadata": {},
   "outputs": [
    {
     "data": {
      "text/html": [
       "<div>\n",
       "<style scoped>\n",
       "    .dataframe tbody tr th:only-of-type {\n",
       "        vertical-align: middle;\n",
       "    }\n",
       "\n",
       "    .dataframe tbody tr th {\n",
       "        vertical-align: top;\n",
       "    }\n",
       "\n",
       "    .dataframe thead tr th {\n",
       "        text-align: left;\n",
       "    }\n",
       "\n",
       "    .dataframe thead tr:last-of-type th {\n",
       "        text-align: right;\n",
       "    }\n",
       "</style>\n",
       "<table border=\"1\" class=\"dataframe\">\n",
       "  <thead>\n",
       "    <tr>\n",
       "      <th></th>\n",
       "      <th colspan=\"6\" halign=\"left\">no_transactions</th>\n",
       "    </tr>\n",
       "    <tr>\n",
       "      <th>cust_lifestage</th>\n",
       "      <th>OA</th>\n",
       "      <th>OF</th>\n",
       "      <th>OT</th>\n",
       "      <th>PE</th>\n",
       "      <th>YA</th>\n",
       "      <th>YF</th>\n",
       "    </tr>\n",
       "    <tr>\n",
       "      <th>atm_tag</th>\n",
       "      <th></th>\n",
       "      <th></th>\n",
       "      <th></th>\n",
       "      <th></th>\n",
       "      <th></th>\n",
       "      <th></th>\n",
       "    </tr>\n",
       "  </thead>\n",
       "  <tbody>\n",
       "    <tr>\n",
       "      <td>0</td>\n",
       "      <td>100</td>\n",
       "      <td>24</td>\n",
       "      <td>225</td>\n",
       "      <td>49</td>\n",
       "      <td>96</td>\n",
       "      <td>93</td>\n",
       "    </tr>\n",
       "    <tr>\n",
       "      <td>1</td>\n",
       "      <td>125</td>\n",
       "      <td>40</td>\n",
       "      <td>990</td>\n",
       "      <td>89</td>\n",
       "      <td>191</td>\n",
       "      <td>146</td>\n",
       "    </tr>\n",
       "    <tr>\n",
       "      <td>2</td>\n",
       "      <td>83</td>\n",
       "      <td>16</td>\n",
       "      <td>198</td>\n",
       "      <td>82</td>\n",
       "      <td>83</td>\n",
       "      <td>81</td>\n",
       "    </tr>\n",
       "    <tr>\n",
       "      <td>3</td>\n",
       "      <td>58</td>\n",
       "      <td>42</td>\n",
       "      <td>163</td>\n",
       "      <td>26</td>\n",
       "      <td>76</td>\n",
       "      <td>95</td>\n",
       "    </tr>\n",
       "    <tr>\n",
       "      <td>4</td>\n",
       "      <td>68</td>\n",
       "      <td>22</td>\n",
       "      <td>183</td>\n",
       "      <td>59</td>\n",
       "      <td>72</td>\n",
       "      <td>76</td>\n",
       "    </tr>\n",
       "    <tr>\n",
       "      <td>5</td>\n",
       "      <td>43</td>\n",
       "      <td>13</td>\n",
       "      <td>175</td>\n",
       "      <td>27</td>\n",
       "      <td>88</td>\n",
       "      <td>48</td>\n",
       "    </tr>\n",
       "  </tbody>\n",
       "</table>\n",
       "</div>"
      ],
      "text/plain": [
       "               no_transactions                       \n",
       "cust_lifestage              OA  OF   OT  PE   YA   YF\n",
       "atm_tag                                              \n",
       "0                          100  24  225  49   96   93\n",
       "1                          125  40  990  89  191  146\n",
       "2                           83  16  198  82   83   81\n",
       "3                           58  42  163  26   76   95\n",
       "4                           68  22  183  59   72   76\n",
       "5                           43  13  175  27   88   48"
      ]
     },
     "execution_count": 515,
     "metadata": {},
     "output_type": "execute_result"
    }
   ],
   "source": [
    "ls_by_segment.pivot_table(index='atm_tag', columns='cust_lifestage')"
   ]
  }
 ],
 "metadata": {
  "kernelspec": {
   "display_name": "Python 3",
   "language": "python",
   "name": "python3"
  },
  "language_info": {
   "codemirror_mode": {
    "name": "ipython",
    "version": 3
   },
   "file_extension": ".py",
   "mimetype": "text/x-python",
   "name": "python",
   "nbconvert_exporter": "python",
   "pygments_lexer": "ipython3",
   "version": "3.7.4"
  }
 },
 "nbformat": 4,
 "nbformat_minor": 2
}
