{
 "cells": [
  {
   "cell_type": "markdown",
   "metadata": {},
   "source": [
    "# Data Cleaning "
   ]
  },
  {
   "cell_type": "markdown",
   "metadata": {},
   "source": [
    "This script has been created in order to query the dataframe and create a couple of datasets that will be used for modeling within the `ATM.ipynb` file. "
   ]
  },
  {
   "cell_type": "markdown",
   "metadata": {},
   "source": [
    "## Set-up "
   ]
  },
  {
   "cell_type": "code",
   "execution_count": 1,
   "metadata": {},
   "outputs": [],
   "source": [
    "#Imports\n",
    "import pymysql\n",
    "import pandas as pd\n",
    "import numpy as np\n",
    "import datetime\n",
    "import json\n",
    "import matplotlib.pyplot as plt\n",
    "import seaborn as sns\n",
    "import warnings\n",
    "warnings.simplefilter(\"ignore\")"
   ]
  },
  {
   "cell_type": "code",
   "execution_count": 2,
   "metadata": {},
   "outputs": [],
   "source": [
    "# Load the file\n",
    "json_data = json.loads(open('../../db_conn.json').read())"
   ]
  },
  {
   "cell_type": "code",
   "execution_count": 3,
   "metadata": {},
   "outputs": [],
   "source": [
    "conn = pymysql.connect(host=json_data['host'], \n",
    "                       port=json_data['port'], \n",
    "                       user=json_data['user'], \n",
    "                       passwd=json_data['password'], \n",
    "                       db = json_data['db_name'])"
   ]
  },
  {
   "cell_type": "markdown",
   "metadata": {},
   "source": [
    "## Load and create customer-to-basket dataset "
   ]
  },
  {
   "cell_type": "code",
   "execution_count": 4,
   "metadata": {},
   "outputs": [
    {
     "data": {
      "text/html": [
       "<div>\n",
       "<style scoped>\n",
       "    .dataframe tbody tr th:only-of-type {\n",
       "        vertical-align: middle;\n",
       "    }\n",
       "\n",
       "    .dataframe tbody tr th {\n",
       "        vertical-align: top;\n",
       "    }\n",
       "\n",
       "    .dataframe thead th {\n",
       "        text-align: right;\n",
       "    }\n",
       "</style>\n",
       "<table border=\"1\" class=\"dataframe\">\n",
       "  <thead>\n",
       "    <tr style=\"text-align: right;\">\n",
       "      <th></th>\n",
       "      <th>cust_id</th>\n",
       "      <th>basket_id</th>\n",
       "    </tr>\n",
       "  </thead>\n",
       "  <tbody>\n",
       "    <tr>\n",
       "      <td>0</td>\n",
       "      <td>CUST0000000013</td>\n",
       "      <td>994105500169368</td>\n",
       "    </tr>\n",
       "    <tr>\n",
       "      <td>1</td>\n",
       "      <td>CUST0000000013</td>\n",
       "      <td>994105900171284</td>\n",
       "    </tr>\n",
       "    <tr>\n",
       "      <td>2</td>\n",
       "      <td>CUST0000000013</td>\n",
       "      <td>994106000168294</td>\n",
       "    </tr>\n",
       "    <tr>\n",
       "      <td>3</td>\n",
       "      <td>CUST0000000013</td>\n",
       "      <td>994106600174081</td>\n",
       "    </tr>\n",
       "    <tr>\n",
       "      <td>4</td>\n",
       "      <td>CUST0000000013</td>\n",
       "      <td>994106700173720</td>\n",
       "    </tr>\n",
       "  </tbody>\n",
       "</table>\n",
       "</div>"
      ],
      "text/plain": [
       "          cust_id        basket_id\n",
       "0  CUST0000000013  994105500169368\n",
       "1  CUST0000000013  994105900171284\n",
       "2  CUST0000000013  994106000168294\n",
       "3  CUST0000000013  994106600174081\n",
       "4  CUST0000000013  994106700173720"
      ]
     },
     "execution_count": 4,
     "metadata": {},
     "output_type": "execute_result"
    }
   ],
   "source": [
    "#Query products grouped by basket_id and prod_code_10\n",
    "customers_df = pd.read_sql('select distinct Customers.cust_id, Transactions.basket_id from Customers \\\n",
    "                         inner join Transactions on Customers.cust_id = Transactions.cust_id;', conn)\n",
    "customers_df.head()"
   ]
  },
  {
   "cell_type": "markdown",
   "metadata": {},
   "source": [
    "## Load and create baskets-to-products dataset "
   ]
  },
  {
   "cell_type": "markdown",
   "metadata": {},
   "source": [
    "First, let's retreive the whole products dataset, along with information about the customer and the prod_10 category. "
   ]
  },
  {
   "cell_type": "code",
   "execution_count": 5,
   "metadata": {},
   "outputs": [],
   "source": [
    "products = pd.read_sql('select * from Products', conn)"
   ]
  },
  {
   "cell_type": "code",
   "execution_count": 6,
   "metadata": {},
   "outputs": [
    {
     "data": {
      "text/html": [
       "<div>\n",
       "<style scoped>\n",
       "    .dataframe tbody tr th:only-of-type {\n",
       "        vertical-align: middle;\n",
       "    }\n",
       "\n",
       "    .dataframe tbody tr th {\n",
       "        vertical-align: top;\n",
       "    }\n",
       "\n",
       "    .dataframe thead th {\n",
       "        text-align: right;\n",
       "    }\n",
       "</style>\n",
       "<table border=\"1\" class=\"dataframe\">\n",
       "  <thead>\n",
       "    <tr style=\"text-align: right;\">\n",
       "      <th></th>\n",
       "      <th>prod_id</th>\n",
       "      <th>prod_code_10</th>\n",
       "      <th>prod_code_20</th>\n",
       "      <th>prod_code_30</th>\n",
       "      <th>prod_code_40</th>\n",
       "    </tr>\n",
       "  </thead>\n",
       "  <tbody>\n",
       "    <tr>\n",
       "      <td>0</td>\n",
       "      <td>PRD0900001</td>\n",
       "      <td>CL00072</td>\n",
       "      <td>DEP00021</td>\n",
       "      <td>G00007</td>\n",
       "      <td>D00002</td>\n",
       "    </tr>\n",
       "    <tr>\n",
       "      <td>1</td>\n",
       "      <td>PRD0900002</td>\n",
       "      <td>CL00075</td>\n",
       "      <td>DEP00022</td>\n",
       "      <td>G00007</td>\n",
       "      <td>D00002</td>\n",
       "    </tr>\n",
       "    <tr>\n",
       "      <td>2</td>\n",
       "      <td>PRD0900003</td>\n",
       "      <td>CL00144</td>\n",
       "      <td>DEP00051</td>\n",
       "      <td>G00015</td>\n",
       "      <td>D00003</td>\n",
       "    </tr>\n",
       "    <tr>\n",
       "      <td>3</td>\n",
       "      <td>PRD0900004</td>\n",
       "      <td>CL00020</td>\n",
       "      <td>DEP00005</td>\n",
       "      <td>G00003</td>\n",
       "      <td>D00001</td>\n",
       "    </tr>\n",
       "    <tr>\n",
       "      <td>4</td>\n",
       "      <td>PRD0900005</td>\n",
       "      <td>CL00155</td>\n",
       "      <td>DEP00053</td>\n",
       "      <td>G00016</td>\n",
       "      <td>D00003</td>\n",
       "    </tr>\n",
       "  </tbody>\n",
       "</table>\n",
       "</div>"
      ],
      "text/plain": [
       "      prod_id prod_code_10 prod_code_20 prod_code_30 prod_code_40\n",
       "0  PRD0900001      CL00072     DEP00021       G00007       D00002\n",
       "1  PRD0900002      CL00075     DEP00022       G00007       D00002\n",
       "2  PRD0900003      CL00144     DEP00051       G00015       D00003\n",
       "3  PRD0900004      CL00020     DEP00005       G00003       D00001\n",
       "4  PRD0900005      CL00155     DEP00053       G00016       D00003"
      ]
     },
     "execution_count": 6,
     "metadata": {},
     "output_type": "execute_result"
    }
   ],
   "source": [
    "products.head()"
   ]
  },
  {
   "cell_type": "markdown",
   "metadata": {},
   "source": [
    "In order to explore the product hierarchy, we will obtain the unique values for each of the different product groups. "
   ]
  },
  {
   "cell_type": "code",
   "execution_count": 7,
   "metadata": {},
   "outputs": [
    {
     "data": {
      "text/plain": [
       "[4997, 250, 90, 31, 9]"
      ]
     },
     "execution_count": 7,
     "metadata": {},
     "output_type": "execute_result"
    }
   ],
   "source": [
    "[products[col].nunique() for col in products.columns]"
   ]
  },
  {
   "cell_type": "markdown",
   "metadata": {},
   "source": [
    "Here we can evidence different levels of the hierarchy, with a couple of examples presented below: \n",
    "\n",
    "1. Department level (Electronics & Office) -> 9 Departments\n",
    "\n",
    "2. Product group level (Computers) -> 31 groups\n",
    "\n",
    "3. Product line level(Laptops) -> 90 lines\n",
    "\n",
    "4. Product class (2 in 1/ Touchscreen/ Gaming) -> 250 classes\n",
    "\n",
    "5. Product ( Lenovo XXX) -> 4997 products\n",
    "\n",
    "For simplicity purpose, this exercise will bre carried out **using the 250 unique product classes**, however, with the right amount of data this could be expanded to product at the brand and description level.\n",
    "\n",
    "We will have a set of baskets that include one or more of the 250 classes for this analysis."
   ]
  },
  {
   "cell_type": "code",
   "execution_count": 8,
   "metadata": {},
   "outputs": [],
   "source": [
    "#Query products grouped by basket_id and prod_code_10\n",
    "baskets_df = pd.read_sql('select Transactions.basket_id, prod_code_10, Transactions.prod_id from Transactions \\\n",
    "                         left join Baskets on Transactions.basket_id = Baskets.basket_id\\\n",
    "                         left join Products on Transactions.prod_id = Products.prod_id;', conn)"
   ]
  },
  {
   "cell_type": "markdown",
   "metadata": {},
   "source": [
    "Count the number of apperances for each product ID grouping by basket and prod_code_10 (product class). "
   ]
  },
  {
   "cell_type": "code",
   "execution_count": 9,
   "metadata": {},
   "outputs": [],
   "source": [
    "product_counts = baskets_df.groupby(['basket_id', 'prod_code_10']).count().reset_index()"
   ]
  },
  {
   "cell_type": "code",
   "execution_count": 10,
   "metadata": {},
   "outputs": [],
   "source": [
    "# Now get the prod_code_10 in columns and the sum of those products to populate matrix \n",
    "product_counts = pd.pivot_table(product_counts, \n",
    "                                columns='prod_code_10', \n",
    "                                index='basket_id', \n",
    "                                values='prod_id', \n",
    "                                fill_value=0)"
   ]
  },
  {
   "cell_type": "code",
   "execution_count": 11,
   "metadata": {},
   "outputs": [
    {
     "data": {
      "text/html": [
       "<div>\n",
       "<style scoped>\n",
       "    .dataframe tbody tr th:only-of-type {\n",
       "        vertical-align: middle;\n",
       "    }\n",
       "\n",
       "    .dataframe tbody tr th {\n",
       "        vertical-align: top;\n",
       "    }\n",
       "\n",
       "    .dataframe thead th {\n",
       "        text-align: right;\n",
       "    }\n",
       "</style>\n",
       "<table border=\"1\" class=\"dataframe\">\n",
       "  <thead>\n",
       "    <tr style=\"text-align: right;\">\n",
       "      <th>prod_code_10</th>\n",
       "      <th>CL00001</th>\n",
       "      <th>CL00002</th>\n",
       "      <th>CL00003</th>\n",
       "      <th>CL00004</th>\n",
       "      <th>CL00005</th>\n",
       "      <th>CL00006</th>\n",
       "      <th>CL00007</th>\n",
       "      <th>CL00008</th>\n",
       "      <th>CL00009</th>\n",
       "      <th>CL00010</th>\n",
       "      <th>...</th>\n",
       "      <th>CL00241</th>\n",
       "      <th>CL00242</th>\n",
       "      <th>CL00243</th>\n",
       "      <th>CL00244</th>\n",
       "      <th>CL00245</th>\n",
       "      <th>CL00246</th>\n",
       "      <th>CL00247</th>\n",
       "      <th>CL00248</th>\n",
       "      <th>CL00249</th>\n",
       "      <th>CL00250</th>\n",
       "    </tr>\n",
       "    <tr>\n",
       "      <th>basket_id</th>\n",
       "      <th></th>\n",
       "      <th></th>\n",
       "      <th></th>\n",
       "      <th></th>\n",
       "      <th></th>\n",
       "      <th></th>\n",
       "      <th></th>\n",
       "      <th></th>\n",
       "      <th></th>\n",
       "      <th></th>\n",
       "      <th></th>\n",
       "      <th></th>\n",
       "      <th></th>\n",
       "      <th></th>\n",
       "      <th></th>\n",
       "      <th></th>\n",
       "      <th></th>\n",
       "      <th></th>\n",
       "      <th></th>\n",
       "      <th></th>\n",
       "      <th></th>\n",
       "    </tr>\n",
       "  </thead>\n",
       "  <tbody>\n",
       "    <tr>\n",
       "      <td>994100100000097</td>\n",
       "      <td>0</td>\n",
       "      <td>0</td>\n",
       "      <td>0</td>\n",
       "      <td>0</td>\n",
       "      <td>0</td>\n",
       "      <td>0</td>\n",
       "      <td>0</td>\n",
       "      <td>0</td>\n",
       "      <td>0</td>\n",
       "      <td>0</td>\n",
       "      <td>...</td>\n",
       "      <td>0</td>\n",
       "      <td>0</td>\n",
       "      <td>0</td>\n",
       "      <td>0</td>\n",
       "      <td>0</td>\n",
       "      <td>0</td>\n",
       "      <td>0</td>\n",
       "      <td>0</td>\n",
       "      <td>0</td>\n",
       "      <td>0</td>\n",
       "    </tr>\n",
       "    <tr>\n",
       "      <td>994100100000422</td>\n",
       "      <td>0</td>\n",
       "      <td>0</td>\n",
       "      <td>0</td>\n",
       "      <td>0</td>\n",
       "      <td>0</td>\n",
       "      <td>0</td>\n",
       "      <td>0</td>\n",
       "      <td>0</td>\n",
       "      <td>0</td>\n",
       "      <td>0</td>\n",
       "      <td>...</td>\n",
       "      <td>0</td>\n",
       "      <td>0</td>\n",
       "      <td>0</td>\n",
       "      <td>0</td>\n",
       "      <td>0</td>\n",
       "      <td>0</td>\n",
       "      <td>0</td>\n",
       "      <td>0</td>\n",
       "      <td>0</td>\n",
       "      <td>0</td>\n",
       "    </tr>\n",
       "    <tr>\n",
       "      <td>994100100000649</td>\n",
       "      <td>0</td>\n",
       "      <td>0</td>\n",
       "      <td>0</td>\n",
       "      <td>0</td>\n",
       "      <td>0</td>\n",
       "      <td>0</td>\n",
       "      <td>0</td>\n",
       "      <td>0</td>\n",
       "      <td>0</td>\n",
       "      <td>0</td>\n",
       "      <td>...</td>\n",
       "      <td>0</td>\n",
       "      <td>0</td>\n",
       "      <td>0</td>\n",
       "      <td>0</td>\n",
       "      <td>0</td>\n",
       "      <td>0</td>\n",
       "      <td>0</td>\n",
       "      <td>0</td>\n",
       "      <td>0</td>\n",
       "      <td>0</td>\n",
       "    </tr>\n",
       "    <tr>\n",
       "      <td>994100100000698</td>\n",
       "      <td>0</td>\n",
       "      <td>0</td>\n",
       "      <td>0</td>\n",
       "      <td>0</td>\n",
       "      <td>0</td>\n",
       "      <td>0</td>\n",
       "      <td>0</td>\n",
       "      <td>0</td>\n",
       "      <td>0</td>\n",
       "      <td>0</td>\n",
       "      <td>...</td>\n",
       "      <td>0</td>\n",
       "      <td>0</td>\n",
       "      <td>0</td>\n",
       "      <td>0</td>\n",
       "      <td>0</td>\n",
       "      <td>0</td>\n",
       "      <td>0</td>\n",
       "      <td>0</td>\n",
       "      <td>0</td>\n",
       "      <td>0</td>\n",
       "    </tr>\n",
       "    <tr>\n",
       "      <td>994100100000846</td>\n",
       "      <td>0</td>\n",
       "      <td>0</td>\n",
       "      <td>0</td>\n",
       "      <td>0</td>\n",
       "      <td>0</td>\n",
       "      <td>0</td>\n",
       "      <td>0</td>\n",
       "      <td>0</td>\n",
       "      <td>0</td>\n",
       "      <td>0</td>\n",
       "      <td>...</td>\n",
       "      <td>0</td>\n",
       "      <td>0</td>\n",
       "      <td>0</td>\n",
       "      <td>0</td>\n",
       "      <td>0</td>\n",
       "      <td>0</td>\n",
       "      <td>0</td>\n",
       "      <td>0</td>\n",
       "      <td>0</td>\n",
       "      <td>0</td>\n",
       "    </tr>\n",
       "  </tbody>\n",
       "</table>\n",
       "<p>5 rows × 250 columns</p>\n",
       "</div>"
      ],
      "text/plain": [
       "prod_code_10     CL00001  CL00002  CL00003  CL00004  CL00005  CL00006  \\\n",
       "basket_id                                                               \n",
       "994100100000097        0        0        0        0        0        0   \n",
       "994100100000422        0        0        0        0        0        0   \n",
       "994100100000649        0        0        0        0        0        0   \n",
       "994100100000698        0        0        0        0        0        0   \n",
       "994100100000846        0        0        0        0        0        0   \n",
       "\n",
       "prod_code_10     CL00007  CL00008  CL00009  CL00010  ...  CL00241  CL00242  \\\n",
       "basket_id                                            ...                     \n",
       "994100100000097        0        0        0        0  ...        0        0   \n",
       "994100100000422        0        0        0        0  ...        0        0   \n",
       "994100100000649        0        0        0        0  ...        0        0   \n",
       "994100100000698        0        0        0        0  ...        0        0   \n",
       "994100100000846        0        0        0        0  ...        0        0   \n",
       "\n",
       "prod_code_10     CL00243  CL00244  CL00245  CL00246  CL00247  CL00248  \\\n",
       "basket_id                                                               \n",
       "994100100000097        0        0        0        0        0        0   \n",
       "994100100000422        0        0        0        0        0        0   \n",
       "994100100000649        0        0        0        0        0        0   \n",
       "994100100000698        0        0        0        0        0        0   \n",
       "994100100000846        0        0        0        0        0        0   \n",
       "\n",
       "prod_code_10     CL00249  CL00250  \n",
       "basket_id                          \n",
       "994100100000097        0        0  \n",
       "994100100000422        0        0  \n",
       "994100100000649        0        0  \n",
       "994100100000698        0        0  \n",
       "994100100000846        0        0  \n",
       "\n",
       "[5 rows x 250 columns]"
      ]
     },
     "execution_count": 11,
     "metadata": {},
     "output_type": "execute_result"
    }
   ],
   "source": [
    "# Take a look at the dataset\n",
    "product_counts.head()"
   ]
  },
  {
   "cell_type": "code",
   "execution_count": 12,
   "metadata": {},
   "outputs": [
    {
     "data": {
      "text/plain": [
       "490982"
      ]
     },
     "execution_count": 12,
     "metadata": {},
     "output_type": "execute_result"
    }
   ],
   "source": [
    "# Check initial number of baskets\n",
    "product_counts.shape[0]"
   ]
  },
  {
   "cell_type": "markdown",
   "metadata": {},
   "source": [
    "Ok, now we have a basket in each row with the count for every product type. Now let's see the distribution of these counts. "
   ]
  },
  {
   "cell_type": "code",
   "execution_count": 13,
   "metadata": {},
   "outputs": [
    {
     "data": {
      "text/plain": [
       "<matplotlib.axes._subplots.AxesSubplot at 0x15c37103108>"
      ]
     },
     "execution_count": 13,
     "metadata": {},
     "output_type": "execute_result"
    },
    {
     "data": {
      "image/png": "[encoded data removed]",
      "text/plain": [
       "<Figure size 432x288 with 1 Axes>"
      ]
     },
     "metadata": {
      "needs_background": "light"
     },
     "output_type": "display_data"
    }
   ],
   "source": [
    "# Draw histogram of count of proucts througout the whole time \n",
    "product_counts.sum(axis=0).plot(kind='hist', bins=100)"
   ]
  },
  {
   "cell_type": "markdown",
   "metadata": {},
   "source": [
    "Let's cut down the number of products available for analysis to leave only those with non-extreme frequency. "
   ]
  },
  {
   "cell_type": "code",
   "execution_count": 14,
   "metadata": {},
   "outputs": [
    {
     "data": {
      "text/plain": [
       "(7048.950000000001, 133930.05)"
      ]
     },
     "execution_count": 14,
     "metadata": {},
     "output_type": "execute_result"
    }
   ],
   "source": [
    "max(product_counts.sum(axis=0))*0.05, max(product_counts.sum(axis=0))*0.95"
   ]
  },
  {
   "cell_type": "code",
   "execution_count": 15,
   "metadata": {},
   "outputs": [
    {
     "data": {
      "text/plain": [
       "(490982, 121)"
      ]
     },
     "execution_count": 15,
     "metadata": {},
     "output_type": "execute_result"
    }
   ],
   "source": [
    "# Trim according to the 5 and 95% of the range\n",
    "trim_prod_counts = product_counts[product_counts.columns[(product_counts.sum(axis=0) > 7048) &\n",
    "                                        (product_counts.sum(axis=0) < 133930)]]\n",
    "trim_prod_counts.shape"
   ]
  },
  {
   "cell_type": "markdown",
   "metadata": {},
   "source": [
    "We end up with 121 products analysis worthy. Note: this threshold can be modified if required, this is just to diminish up computation times. Now that we have non-extreme products, let's check for significant baskets. "
   ]
  },
  {
   "cell_type": "code",
   "execution_count": 16,
   "metadata": {},
   "outputs": [
    {
     "data": {
      "text/plain": [
       "<matplotlib.axes._subplots.AxesSubplot at 0x15c1fc71d08>"
      ]
     },
     "execution_count": 16,
     "metadata": {},
     "output_type": "execute_result"
    },
    {
     "data": {
      "image/png": "[encoded data removed]",
      "text/plain": [
       "<Figure size 432x288 with 1 Axes>"
      ]
     },
     "metadata": {
      "needs_background": "light"
     },
     "output_type": "display_data"
    }
   ],
   "source": [
    "# Draw histogram of number of products by basket\n",
    "product_counts.sum(axis=1).plot(kind='hist', bins=100)"
   ]
  },
  {
   "cell_type": "markdown",
   "metadata": {},
   "source": [
    "As expected we can see a Zipf distributed variable, we are going to remove extremes of the distribution, just as we would do it with a **BOW representation of documents**. For this, we will extract only the baskets with more than 4 items (threshold defined by author)."
   ]
  },
  {
   "cell_type": "code",
   "execution_count": 17,
   "metadata": {},
   "outputs": [
    {
     "data": {
      "text/plain": [
       "(235995, 121)"
      ]
     },
     "execution_count": 17,
     "metadata": {},
     "output_type": "execute_result"
    }
   ],
   "source": [
    "trim_prod_counts = trim_prod_counts[trim_prod_counts.sum(axis=1)>=4]\n",
    "trim_prod_counts.shape"
   ]
  },
  {
   "cell_type": "markdown",
   "metadata": {},
   "source": [
    "We end up with 235,995 baskets with 4 or more of the 121 product types available. Since we are interested in the customer who bought those products, we are now going to filter down the products that have a customer linked to it. "
   ]
  },
  {
   "cell_type": "code",
   "execution_count": 18,
   "metadata": {},
   "outputs": [],
   "source": [
    "# Only pick those baskets with a customer assigned\n",
    "trim_prod_counts = trim_prod_counts[trim_prod_counts.index.isin(customers_df.basket_id.unique())]"
   ]
  },
  {
   "cell_type": "code",
   "execution_count": 19,
   "metadata": {},
   "outputs": [
    {
     "data": {
      "text/plain": [
       "(187188, 121)"
      ]
     },
     "execution_count": 19,
     "metadata": {},
     "output_type": "execute_result"
    }
   ],
   "source": [
    "trim_prod_counts.shape"
   ]
  },
  {
   "cell_type": "markdown",
   "metadata": {},
   "source": [
    "These are our final datasets of baskets and customers that we will use for analysis and modeling. "
   ]
  },
  {
   "cell_type": "code",
   "execution_count": 20,
   "metadata": {},
   "outputs": [],
   "source": [
    "trim_prod_counts.to_csv('baskets.csv', index=True)"
   ]
  },
  {
   "cell_type": "code",
   "execution_count": 21,
   "metadata": {},
   "outputs": [],
   "source": [
    "# Get only customers with any basket assigned and remove duplicates\n",
    "customers_df = customers_df[customers_df.basket_id.isin(trim_prod_counts.index.to_list())]\n",
    "customers_df.drop_duplicates(inplace=True)"
   ]
  },
  {
   "cell_type": "code",
   "execution_count": 22,
   "metadata": {},
   "outputs": [],
   "source": [
    "# Let's store this dataset since it's all we need\n",
    "customers_df.to_csv('customers.csv', index=False)"
   ]
  }
 ],
 "metadata": {
  "kernelspec": {
   "display_name": "Python 3",
   "language": "python",
   "name": "python3"
  },
  "language_info": {
   "codemirror_mode": {
    "name": "ipython",
    "version": 3
   },
   "file_extension": ".py",
   "mimetype": "text/x-python",
   "name": "python",
   "nbconvert_exporter": "python",
   "pygments_lexer": "ipython3",
   "version": "3.7.4"
  }
 },
 "nbformat": 4,
 "nbformat_minor": 2
}
