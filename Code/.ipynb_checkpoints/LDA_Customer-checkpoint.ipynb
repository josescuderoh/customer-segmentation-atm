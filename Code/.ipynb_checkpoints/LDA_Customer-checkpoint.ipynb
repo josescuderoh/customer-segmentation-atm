{
 "cells": [
  {
   "cell_type": "code",
   "execution_count": 16,
   "metadata": {},
   "outputs": [],
   "source": [
    "#Imports\n",
    "import pymysql\n",
    "import pandas as pd\n",
    "import numpy as np\n",
    "import datetime\n",
    "import matplotlib.pyplot as plt\n",
    "from sklearn.metrics import silhouette_score, silhouette_samples, davies_bouldin_score\n",
    "from sklearn.decomposition import LatentDirichletAllocation\n",
    "import seaborn as sns\n",
    "import warnings\n",
    "warnings.simplefilter(\"ignore\", DeprecationWarning)# Load the LDA model from sk-learn\n",
    "from sklearn.decomposition import LatentDirichletAllocation as LDA"
   ]
  },
  {
   "cell_type": "code",
   "execution_count": 2,
   "metadata": {},
   "outputs": [],
   "source": [
    "# Connect to the database\n",
    "\n",
    "conn = pymysql.connect(host='learning-1000ml.c0zbrffehjje.us-east-2.rds.amazonaws.com', \n",
    "                       port=3306, \n",
    "                       user='root1000ml', \n",
    "                       passwd='IheartData', \n",
    "                       db = 'grocery_db')"
   ]
  },
  {
   "cell_type": "code",
   "execution_count": 3,
   "metadata": {},
   "outputs": [],
   "source": [
    "#Query products grouped by cust_id and prod_code_10\n",
    "cust_df = pd.read_sql('select Transactions.cust_id, prod_code_10, Transactions.prod_id from Transactions \\\n",
    "                         left join Products on Transactions.prod_id = Products.prod_id;', conn)"
   ]
  },
  {
   "cell_type": "code",
   "execution_count": 4,
   "metadata": {},
   "outputs": [],
   "source": [
    "cust_df.to_csv('customers.csv', index=False)"
   ]
  },
  {
   "cell_type": "code",
   "execution_count": 7,
   "metadata": {},
   "outputs": [],
   "source": [
    "#cust_df = pd.read_csv('customers.csv')"
   ]
  },
  {
   "cell_type": "code",
   "execution_count": 8,
   "metadata": {},
   "outputs": [],
   "source": [
    "#Count the number of apperances for prod_id for basket and prod_code_10\n",
    "product_counts = cust_df.groupby(['cust_id', 'prod_code_10']).count().reset_index()\n",
    "\n",
    "# Pivot table to get the prod_code_10 in columns and the sum of those products to populate sparse matrix \n",
    "row_counts = pd.pivot_table(product_counts, columns='prod_code_10', index='cust_id', values='prod_id', fill_value=0)"
   ]
  },
  {
   "cell_type": "code",
   "execution_count": 9,
   "metadata": {},
   "outputs": [
    {
     "data": {
      "text/plain": [
       "(5000, 250)"
      ]
     },
     "execution_count": 9,
     "metadata": {},
     "output_type": "execute_result"
    }
   ],
   "source": [
    "#Check number of customers\n",
    "row_counts.shape"
   ]
  },
  {
   "cell_type": "code",
   "execution_count": 10,
   "metadata": {},
   "outputs": [
    {
     "data": {
      "text/plain": [
       "(4393, 250)"
      ]
     },
     "execution_count": 10,
     "metadata": {},
     "output_type": "execute_result"
    }
   ],
   "source": [
    "#Extract customers who bought at least 10 products\n",
    "trim_row_counts = row_counts[row_counts.sum(axis=1)>=10]\n",
    "trim_row_counts.shape"
   ]
  },
  {
   "cell_type": "code",
   "execution_count": 11,
   "metadata": {},
   "outputs": [
    {
     "data": {
      "text/plain": [
       "count    4393.000000\n",
       "mean      577.820168\n",
       "std       698.648019\n",
       "min        10.000000\n",
       "25%        67.000000\n",
       "50%       291.000000\n",
       "75%       840.000000\n",
       "max      5309.000000\n",
       "dtype: float64"
      ]
     },
     "execution_count": 11,
     "metadata": {},
     "output_type": "execute_result"
    }
   ],
   "source": [
    "trim_row_counts.sum(axis=1).describe()"
   ]
  },
  {
   "cell_type": "markdown",
   "metadata": {},
   "source": [
    "We end up with 261.950 baskets with 4 or more of the 250 product types available at the store. Let's cut down the number of products available for analysis."
   ]
  },
  {
   "cell_type": "code",
   "execution_count": 12,
   "metadata": {},
   "outputs": [
    {
     "data": {
      "text/plain": [
       "count       250.000000\n",
       "mean      10153.456000\n",
       "std       13927.104706\n",
       "min          60.000000\n",
       "25%        1239.500000\n",
       "50%        5214.500000\n",
       "75%       14363.250000\n",
       "max      114519.000000\n",
       "dtype: float64"
      ]
     },
     "execution_count": 12,
     "metadata": {},
     "output_type": "execute_result"
    }
   ],
   "source": [
    "trim_row_counts.sum(axis=0).describe()"
   ]
  },
  {
   "cell_type": "code",
   "execution_count": 13,
   "metadata": {},
   "outputs": [
    {
     "data": {
      "text/plain": [
       "(5700.0, 108300.0)"
      ]
     },
     "execution_count": 13,
     "metadata": {},
     "output_type": "execute_result"
    }
   ],
   "source": [
    "114000*0.05, 114000*0.95"
   ]
  },
  {
   "cell_type": "code",
   "execution_count": 14,
   "metadata": {},
   "outputs": [],
   "source": [
    "trim_row_counts = trim_row_counts[trim_row_counts.columns[(trim_row_counts.sum(axis=0) > 5700) &\n",
    "                                        (trim_row_counts.sum(axis=0) < 110000)]]"
   ]
  },
  {
   "cell_type": "code",
   "execution_count": 15,
   "metadata": {},
   "outputs": [
    {
     "data": {
      "text/plain": [
       "(4393, 121)"
      ]
     },
     "execution_count": 15,
     "metadata": {},
     "output_type": "execute_result"
    }
   ],
   "source": [
    "trim_row_counts.shape"
   ]
  },
  {
   "cell_type": "code",
   "execution_count": 17,
   "metadata": {},
   "outputs": [],
   "source": [
    "count_data = trim_row_counts.values"
   ]
  },
  {
   "cell_type": "markdown",
   "metadata": {},
   "source": [
    "### Apply LDA "
   ]
  },
  {
   "cell_type": "code",
   "execution_count": 40,
   "metadata": {},
   "outputs": [
    {
     "name": "stdout",
     "output_type": "stream",
     "text": [
      "Finished LDA with 10 topics\n",
      "Finished LDA with 12 topics\n",
      "Finished LDA with 15 topics\n",
      "Finished LDA with 17 topics\n",
      "Finished LDA with 20 topics\n"
     ]
    }
   ],
   "source": [
    "# Iterate over multiple numbers of topics and get model\n",
    "no_topics = np.linspace(10,20,5, dtype='int')\n",
    "\n",
    "all_models = []\n",
    "\n",
    "for num in no_topics:\n",
    "    mod_dict = {}\n",
    "    \n",
    "    #Fit the data\n",
    "    mod_dict['model'] = LDA(n_components=num, n_jobs=-1, verbose=0)\n",
    "    mod_dict['model'].fit(count_data)\n",
    "    \n",
    "    #Get metrics\n",
    "    mod_dict['perplexity'] = mod_dict['model'].perplexity(count_data) \n",
    "    \n",
    "    #Append to list\n",
    "    all_models.append(mod_dict)\n",
    "    \n",
    "    print(f'Finished LDA with {num} topics')"
   ]
  },
  {
   "cell_type": "code",
   "execution_count": 41,
   "metadata": {},
   "outputs": [],
   "source": [
    "# See perplexity\n",
    "all_perplexities = [mod['perplexity'] for mod in all_models]"
   ]
  },
  {
   "cell_type": "code",
   "execution_count": 42,
   "metadata": {},
   "outputs": [
    {
     "data": {
      "text/plain": [
       "<matplotlib.axes._subplots.AxesSubplot at 0x1a3933d71c8>"
      ]
     },
     "execution_count": 42,
     "metadata": {},
     "output_type": "execute_result"
    },
    {
     "data": {
      "image/png": "[encoded data removed]",
      "text/plain": [
       "<Figure size 432x288 with 1 Axes>"
      ]
     },
     "metadata": {
      "needs_background": "light"
     },
     "output_type": "display_data"
    }
   ],
   "source": [
    "sns.scatterplot(x=no_topics, y=all_perplexities)"
   ]
  },
  {
   "cell_type": "code",
   "execution_count": 43,
   "metadata": {},
   "outputs": [],
   "source": [
    "# Extract the labels for each model\n",
    "all_labels = [mod['model'].transform(count_data).argmax(axis=1) for mod in all_models] "
   ]
  },
  {
   "cell_type": "code",
   "execution_count": 44,
   "metadata": {},
   "outputs": [
    {
     "data": {
      "text/plain": [
       "[-0.1029419807762656,\n",
       " -0.12296953322954753,\n",
       " -0.19649792552301062,\n",
       " -0.15479373739508684,\n",
       " -0.1819612330922394]"
      ]
     },
     "execution_count": 44,
     "metadata": {},
     "output_type": "execute_result"
    }
   ],
   "source": [
    "# Get sampled silhouette score\n",
    "sil_scores = [silhouette_score(count_data, labels) for labels in all_labels]\n",
    "sil_scores"
   ]
  },
  {
   "cell_type": "code",
   "execution_count": 45,
   "metadata": {},
   "outputs": [
    {
     "data": {
      "text/plain": [
       "<matplotlib.axes._subplots.AxesSubplot at 0x1a3933db988>"
      ]
     },
     "execution_count": 45,
     "metadata": {},
     "output_type": "execute_result"
    },
    {
     "data": {
      "image/png": "[encoded data removed]",
      "text/plain": [
       "<Figure size 432x288 with 1 Axes>"
      ]
     },
     "metadata": {
      "needs_background": "light"
     },
     "output_type": "display_data"
    }
   ],
   "source": [
    "sns.scatterplot(y=sil_scores, x=no_topics)"
   ]
  },
  {
   "cell_type": "code",
   "execution_count": null,
   "metadata": {},
   "outputs": [],
   "source": []
  }
 ],
 "metadata": {
  "kernelspec": {
   "display_name": "Python 3",
   "language": "python",
   "name": "python3"
  },
  "language_info": {
   "codemirror_mode": {
    "name": "ipython",
    "version": 3
   },
   "file_extension": ".py",
   "mimetype": "text/x-python",
   "name": "python",
   "nbconvert_exporter": "python",
   "pygments_lexer": "ipython3",
   "version": "3.7.4"
  }
 },
 "nbformat": 4,
 "nbformat_minor": 2
}
