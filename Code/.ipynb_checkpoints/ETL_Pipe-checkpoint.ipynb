{
 "cells": [
  {
   "cell_type": "markdown",
   "metadata": {
    "colab_type": "text",
    "id": "aHNMtydSf3qd"
   },
   "source": [
    "## Set-up"
   ]
  },
  {
   "cell_type": "code",
   "execution_count": 1,
   "metadata": {
    "colab": {
     "base_uri": "https://localhost:8080/",
     "height": 34
    },
    "colab_type": "code",
    "id": "m6Lp_IpAeGrh",
    "outputId": "b4b383fa-4937-4e41-8aaf-7f361ead0479"
   },
   "outputs": [
    {
     "name": "stdout",
     "output_type": "stream",
     "text": [
      "Collecting pymysql\n",
      "  Downloading https://files.pythonhosted.org/packages/ed/39/15045ae46f2a123019aa968dfcba0396c161c20f855f11dea6796bcaae95/PyMySQL-0.9.3-py2.py3-none-any.whl (47kB)\n",
      "Installing collected packages: pymysql\n",
      "Successfully installed pymysql-0.9.3\n"
     ]
    }
   ],
   "source": [
    "!pip install pymysql"
   ]
  },
  {
   "cell_type": "code",
   "execution_count": 60,
   "metadata": {
    "colab": {},
    "colab_type": "code",
    "id": "wMvStepIfurA"
   },
   "outputs": [],
   "source": [
    "#Imports\n",
    "import pandas as pd\n",
    "import numpy as np\n",
    "import datetime\n",
    "import os\n",
    "import warnings\n",
    "import json\n",
    "from sqlalchemy import create_engine"
   ]
  },
  {
   "cell_type": "code",
   "execution_count": 15,
   "metadata": {},
   "outputs": [],
   "source": [
    "warnings.filterwarnings(action='ignore')"
   ]
  },
  {
   "cell_type": "markdown",
   "metadata": {
    "colab_type": "text",
    "id": "0wcb7EDwg5OU"
   },
   "source": [
    "## Extraction"
   ]
  },
  {
   "cell_type": "code",
   "execution_count": 2,
   "metadata": {
    "colab": {},
    "colab_type": "code",
    "id": "wAUG7E1Lgl2J"
   },
   "outputs": [],
   "source": [
    "# Get the URL of the drive folder\n",
    "folder_url = '../Data/Customer Loyalty'"
   ]
  },
  {
   "cell_type": "code",
   "execution_count": 4,
   "metadata": {
    "colab": {},
    "colab_type": "code",
    "id": "jiGUd8Fhg4nx"
   },
   "outputs": [],
   "source": [
    "# Get filenames within folder\n",
    "all_files = os.listdir(folder_url)\n",
    "trans_files = [string for string in all_files if string.startswith('trans')]\n",
    "time_files = [string for string in all_files if string.startswith('time')]"
   ]
  },
  {
   "cell_type": "code",
   "execution_count": 5,
   "metadata": {
    "colab": {},
    "colab_type": "code",
    "id": "6aYsQGSGiW5h"
   },
   "outputs": [],
   "source": [
    "# Import files one by one and append to a pandas dataframe\n",
    "for i, file in enumerate(trans_files):\n",
    "  # Create temporary string to access the file\n",
    "  temp_string = folder_url + '/' + file\n",
    "  # Import the temporary pandas dataframe for string\n",
    "  temp_df = pd.read_csv(temp_string)\n",
    "  # If this is the first one save it to a different variable else append it\n",
    "  if i==0:\n",
    "    trans_df = temp_df.copy()\n",
    "  else:\n",
    "    trans_df = trans_df.append(temp_df, ignore_index=True)\n",
    "  # Debug break\n",
    "  if i==-1:\n",
    "    break"
   ]
  },
  {
   "cell_type": "code",
   "execution_count": 6,
   "metadata": {
    "colab": {
     "base_uri": "https://localhost:8080/",
     "height": 224
    },
    "colab_type": "code",
    "id": "F56k2Wquw2di",
    "outputId": "b143679d-9138-487f-eca1-8633a370de54"
   },
   "outputs": [
    {
     "data": {
      "text/html": [
       "<div>\n",
       "<style scoped>\n",
       "    .dataframe tbody tr th:only-of-type {\n",
       "        vertical-align: middle;\n",
       "    }\n",
       "\n",
       "    .dataframe tbody tr th {\n",
       "        vertical-align: top;\n",
       "    }\n",
       "\n",
       "    .dataframe thead th {\n",
       "        text-align: right;\n",
       "    }\n",
       "</style>\n",
       "<table border=\"1\" class=\"dataframe\">\n",
       "  <thead>\n",
       "    <tr style=\"text-align: right;\">\n",
       "      <th></th>\n",
       "      <th>SHOP_WEEK</th>\n",
       "      <th>SHOP_DATE</th>\n",
       "      <th>SHOP_WEEKDAY</th>\n",
       "      <th>SHOP_HOUR</th>\n",
       "      <th>QUANTITY</th>\n",
       "      <th>SPEND</th>\n",
       "      <th>PROD_CODE</th>\n",
       "      <th>PROD_CODE_10</th>\n",
       "      <th>PROD_CODE_20</th>\n",
       "      <th>PROD_CODE_30</th>\n",
       "      <th>...</th>\n",
       "      <th>CUST_PRICE_SENSITIVITY</th>\n",
       "      <th>CUST_LIFESTAGE</th>\n",
       "      <th>BASKET_ID</th>\n",
       "      <th>BASKET_SIZE</th>\n",
       "      <th>BASKET_PRICE_SENSITIVITY</th>\n",
       "      <th>BASKET_TYPE</th>\n",
       "      <th>BASKET_DOMINANT_MISSION</th>\n",
       "      <th>STORE_CODE</th>\n",
       "      <th>STORE_FORMAT</th>\n",
       "      <th>STORE_REGION</th>\n",
       "    </tr>\n",
       "  </thead>\n",
       "  <tbody>\n",
       "    <tr>\n",
       "      <td>0</td>\n",
       "      <td>200607</td>\n",
       "      <td>20060415</td>\n",
       "      <td>7</td>\n",
       "      <td>19</td>\n",
       "      <td>1</td>\n",
       "      <td>0.93</td>\n",
       "      <td>PRD0900033</td>\n",
       "      <td>CL00201</td>\n",
       "      <td>DEP00067</td>\n",
       "      <td>G00021</td>\n",
       "      <td>...</td>\n",
       "      <td>UM</td>\n",
       "      <td>OT</td>\n",
       "      <td>994100100398294</td>\n",
       "      <td>L</td>\n",
       "      <td>MM</td>\n",
       "      <td>Full Shop</td>\n",
       "      <td>Mixed</td>\n",
       "      <td>STORE00001</td>\n",
       "      <td>LS</td>\n",
       "      <td>E02</td>\n",
       "    </tr>\n",
       "    <tr>\n",
       "      <td>1</td>\n",
       "      <td>200607</td>\n",
       "      <td>20060413</td>\n",
       "      <td>5</td>\n",
       "      <td>20</td>\n",
       "      <td>1</td>\n",
       "      <td>1.03</td>\n",
       "      <td>PRD0900097</td>\n",
       "      <td>CL00001</td>\n",
       "      <td>DEP00001</td>\n",
       "      <td>G00001</td>\n",
       "      <td>...</td>\n",
       "      <td>LA</td>\n",
       "      <td>YF</td>\n",
       "      <td>994100100532898</td>\n",
       "      <td>L</td>\n",
       "      <td>LA</td>\n",
       "      <td>Top Up</td>\n",
       "      <td>Fresh</td>\n",
       "      <td>STORE00001</td>\n",
       "      <td>LS</td>\n",
       "      <td>E02</td>\n",
       "    </tr>\n",
       "    <tr>\n",
       "      <td>2</td>\n",
       "      <td>200607</td>\n",
       "      <td>20060416</td>\n",
       "      <td>1</td>\n",
       "      <td>14</td>\n",
       "      <td>1</td>\n",
       "      <td>0.98</td>\n",
       "      <td>PRD0900121</td>\n",
       "      <td>CL00063</td>\n",
       "      <td>DEP00019</td>\n",
       "      <td>G00007</td>\n",
       "      <td>...</td>\n",
       "      <td>NaN</td>\n",
       "      <td>NaN</td>\n",
       "      <td>994100100135562</td>\n",
       "      <td>L</td>\n",
       "      <td>MM</td>\n",
       "      <td>Top Up</td>\n",
       "      <td>Grocery</td>\n",
       "      <td>STORE00001</td>\n",
       "      <td>LS</td>\n",
       "      <td>E02</td>\n",
       "    </tr>\n",
       "    <tr>\n",
       "      <td>3</td>\n",
       "      <td>200607</td>\n",
       "      <td>20060415</td>\n",
       "      <td>7</td>\n",
       "      <td>19</td>\n",
       "      <td>1</td>\n",
       "      <td>3.07</td>\n",
       "      <td>PRD0900135</td>\n",
       "      <td>CL00201</td>\n",
       "      <td>DEP00067</td>\n",
       "      <td>G00021</td>\n",
       "      <td>...</td>\n",
       "      <td>UM</td>\n",
       "      <td>OT</td>\n",
       "      <td>994100100398294</td>\n",
       "      <td>L</td>\n",
       "      <td>MM</td>\n",
       "      <td>Full Shop</td>\n",
       "      <td>Mixed</td>\n",
       "      <td>STORE00001</td>\n",
       "      <td>LS</td>\n",
       "      <td>E02</td>\n",
       "    </tr>\n",
       "    <tr>\n",
       "      <td>4</td>\n",
       "      <td>200607</td>\n",
       "      <td>20060415</td>\n",
       "      <td>7</td>\n",
       "      <td>19</td>\n",
       "      <td>1</td>\n",
       "      <td>4.81</td>\n",
       "      <td>PRD0900220</td>\n",
       "      <td>CL00051</td>\n",
       "      <td>DEP00013</td>\n",
       "      <td>G00005</td>\n",
       "      <td>...</td>\n",
       "      <td>UM</td>\n",
       "      <td>OT</td>\n",
       "      <td>994100100398294</td>\n",
       "      <td>L</td>\n",
       "      <td>MM</td>\n",
       "      <td>Full Shop</td>\n",
       "      <td>Mixed</td>\n",
       "      <td>STORE00001</td>\n",
       "      <td>LS</td>\n",
       "      <td>E02</td>\n",
       "    </tr>\n",
       "  </tbody>\n",
       "</table>\n",
       "<p>5 rows × 22 columns</p>\n",
       "</div>"
      ],
      "text/plain": [
       "   SHOP_WEEK  SHOP_DATE  SHOP_WEEKDAY  SHOP_HOUR  QUANTITY  SPEND   PROD_CODE  \\\n",
       "0     200607   20060415             7         19         1   0.93  PRD0900033   \n",
       "1     200607   20060413             5         20         1   1.03  PRD0900097   \n",
       "2     200607   20060416             1         14         1   0.98  PRD0900121   \n",
       "3     200607   20060415             7         19         1   3.07  PRD0900135   \n",
       "4     200607   20060415             7         19         1   4.81  PRD0900220   \n",
       "\n",
       "  PROD_CODE_10 PROD_CODE_20 PROD_CODE_30  ... CUST_PRICE_SENSITIVITY  \\\n",
       "0      CL00201     DEP00067       G00021  ...                     UM   \n",
       "1      CL00001     DEP00001       G00001  ...                     LA   \n",
       "2      CL00063     DEP00019       G00007  ...                    NaN   \n",
       "3      CL00201     DEP00067       G00021  ...                     UM   \n",
       "4      CL00051     DEP00013       G00005  ...                     UM   \n",
       "\n",
       "  CUST_LIFESTAGE        BASKET_ID BASKET_SIZE  BASKET_PRICE_SENSITIVITY  \\\n",
       "0             OT  994100100398294           L                        MM   \n",
       "1             YF  994100100532898           L                        LA   \n",
       "2            NaN  994100100135562           L                        MM   \n",
       "3             OT  994100100398294           L                        MM   \n",
       "4             OT  994100100398294           L                        MM   \n",
       "\n",
       "  BASKET_TYPE BASKET_DOMINANT_MISSION  STORE_CODE STORE_FORMAT STORE_REGION  \n",
       "0   Full Shop                   Mixed  STORE00001           LS          E02  \n",
       "1      Top Up                   Fresh  STORE00001           LS          E02  \n",
       "2      Top Up                 Grocery  STORE00001           LS          E02  \n",
       "3   Full Shop                   Mixed  STORE00001           LS          E02  \n",
       "4   Full Shop                   Mixed  STORE00001           LS          E02  \n",
       "\n",
       "[5 rows x 22 columns]"
      ]
     },
     "execution_count": 6,
     "metadata": {},
     "output_type": "execute_result"
    }
   ],
   "source": [
    "# Take a look at the dataframe\n",
    "trans_df.head()"
   ]
  },
  {
   "cell_type": "code",
   "execution_count": 7,
   "metadata": {
    "colab": {},
    "colab_type": "code",
    "id": "kt1KRS9e1-5h"
   },
   "outputs": [],
   "source": [
    "#Format the column names propperly\n",
    "trans_df.columns = trans_df.columns.str.lower()"
   ]
  },
  {
   "cell_type": "code",
   "execution_count": 25,
   "metadata": {},
   "outputs": [
    {
     "data": {
      "text/plain": [
       "(3158469, 22)"
      ]
     },
     "execution_count": 25,
     "metadata": {},
     "output_type": "execute_result"
    }
   ],
   "source": [
    "# Check the size\n",
    "trans_df.shape"
   ]
  },
  {
   "cell_type": "markdown",
   "metadata": {},
   "source": [
    "Now we have a wide dataframe with all the files imported, however, this is inefficient, we will have to deal with this at some point. In this dataset, we have a set of 3158469 transactions. A transaction is recorded when a customer buys one SKU on a trip to any store, every set of items recorded for a trip is stored into a basket (or shopping cart). "
   ]
  },
  {
   "cell_type": "code",
   "execution_count": 9,
   "metadata": {
    "colab": {},
    "colab_type": "code",
    "id": "sHoQHAkczhxt"
   },
   "outputs": [],
   "source": [
    "#Get now the time table\n",
    "time_df =  pd.read_csv(folder_url + '/' + time_files[0])"
   ]
  },
  {
   "cell_type": "markdown",
   "metadata": {
    "colab_type": "text",
    "id": "qIAKoCYFz8G-"
   },
   "source": [
    "## Transformation"
   ]
  },
  {
   "cell_type": "markdown",
   "metadata": {},
   "source": [
    "At this transformation step we will take that wide dataframe aforementioned to distilled a series of tables that will be sent into the database described inside the `db_creation.sql` file. "
   ]
  },
  {
   "cell_type": "markdown",
   "metadata": {
    "colab_type": "text",
    "id": "uszTwsPB21RM"
   },
   "source": [
    "### Null values"
   ]
  },
  {
   "cell_type": "code",
   "execution_count": 10,
   "metadata": {
    "colab": {
     "base_uri": "https://localhost:8080/",
     "height": 408
    },
    "colab_type": "code",
    "id": "GBYUnqGb238I",
    "outputId": "18436aa4-b62c-4f94-c401-89ad5ddc6562"
   },
   "outputs": [
    {
     "data": {
      "text/plain": [
       "shop_week                        0\n",
       "shop_date                        0\n",
       "shop_weekday                     0\n",
       "shop_hour                        0\n",
       "quantity                         0\n",
       "spend                            0\n",
       "prod_code                        0\n",
       "prod_code_10                     0\n",
       "prod_code_20                     0\n",
       "prod_code_30                     0\n",
       "prod_code_40                     0\n",
       "cust_code                   617450\n",
       "cust_price_sensitivity      617450\n",
       "cust_lifestage              924940\n",
       "basket_id                        0\n",
       "basket_size                      0\n",
       "basket_price_sensitivity         0\n",
       "basket_type                      0\n",
       "basket_dominant_mission          0\n",
       "store_code                       0\n",
       "store_format                     0\n",
       "store_region                     0\n",
       "dtype: int64"
      ]
     },
     "execution_count": 10,
     "metadata": {},
     "output_type": "execute_result"
    }
   ],
   "source": [
    "# Review NAs for the whole dataframe\n",
    "trans_df.isna().sum()"
   ]
  },
  {
   "cell_type": "markdown",
   "metadata": {
    "colab_type": "text",
    "id": "Oj04laFjH-uJ"
   },
   "source": [
    "We have 617450 transactions with unidentified customers and more than 300.000 transactions with identified customers without lifestage information. "
   ]
  },
  {
   "cell_type": "markdown",
   "metadata": {
    "colab_type": "text",
    "id": "Q_nqsTn50Bao"
   },
   "source": [
    "### Customers table"
   ]
  },
  {
   "cell_type": "markdown",
   "metadata": {
    "colab_type": "text",
    "id": "-QMWTOz0Ifpr"
   },
   "source": [
    "First, we are going to extract the customer data from the complete dataset in order to clean and send the information to the database."
   ]
  },
  {
   "cell_type": "code",
   "execution_count": 30,
   "metadata": {
    "colab": {},
    "colab_type": "code",
    "id": "gBrSrtgs1kFh"
   },
   "outputs": [],
   "source": [
    "# Extract the customer information\n",
    "cust_df = trans_df[['cust_code', 'cust_price_sensitivity', 'cust_lifestage']]\n",
    "cust_df.columns = ['cust_id', 'cust_price_sensitivity', 'cust_lifestage']"
   ]
  },
  {
   "cell_type": "code",
   "execution_count": 34,
   "metadata": {
    "colab": {
     "base_uri": "https://localhost:8080/",
     "height": 122
    },
    "colab_type": "code",
    "id": "MLsOWmId1mmb",
    "outputId": "b5bac8a7-8b6a-4805-f09f-7368e732737a"
   },
   "outputs": [],
   "source": [
    "#Delete the rows without customer information and drop duplicates\n",
    "cust_df.dropna(how='all', inplace=True)\n",
    "cust_df.drop_duplicates(inplace=True)"
   ]
  },
  {
   "cell_type": "code",
   "execution_count": 35,
   "metadata": {
    "colab": {
     "base_uri": "https://localhost:8080/",
     "height": 85
    },
    "colab_type": "code",
    "id": "u5AKWQdq2g9W",
    "outputId": "16c56194-ce82-4f13-a6e0-53bd1a9b0634"
   },
   "outputs": [
    {
     "data": {
      "text/plain": [
       "cust_id                     0\n",
       "cust_price_sensitivity      0\n",
       "cust_lifestage            521\n",
       "dtype: int64"
      ]
     },
     "execution_count": 35,
     "metadata": {},
     "output_type": "execute_result"
    }
   ],
   "source": [
    "#Review NAs\n",
    "cust_df.isna().sum()"
   ]
  },
  {
   "cell_type": "code",
   "execution_count": 37,
   "metadata": {
    "colab": {
     "base_uri": "https://localhost:8080/",
     "height": 34
    },
    "colab_type": "code",
    "id": "3xLnoESYJAKr",
    "outputId": "af3fd362-8d0b-4e10-c42a-56a97e1e0430"
   },
   "outputs": [
    {
     "data": {
      "text/plain": [
       "521"
      ]
     },
     "execution_count": 37,
     "metadata": {},
     "output_type": "execute_result"
    }
   ],
   "source": [
    "#Check the amount of identified customers without lifestage information\n",
    "cust_df.cust_id[cust_df.cust_lifestage.isna()].nunique()"
   ]
  },
  {
   "cell_type": "markdown",
   "metadata": {
    "colab_type": "text",
    "id": "_SubMsbq7eN1"
   },
   "source": [
    "We have about 10% of the customers without lifestage information. Since the amount of unique rows for `cust_df` is equal to the amount of unique customers thart have lifestage set to `None`, we conclude that there's no existing information within the dataframe for the variable `cust_lifestage` to replace null values.\n",
    "\n",
    "This information will be stored in the database after removing the duplicate entries into the `Customers` table."
   ]
  },
  {
   "cell_type": "code",
   "execution_count": 36,
   "metadata": {
    "colab": {
     "base_uri": "https://localhost:8080/",
     "height": 204
    },
    "colab_type": "code",
    "id": "6efVYyN0Kf2A",
    "outputId": "2798b17b-3939-4301-ee84-5309a7b6bd3a"
   },
   "outputs": [
    {
     "data": {
      "text/html": [
       "<div>\n",
       "<style scoped>\n",
       "    .dataframe tbody tr th:only-of-type {\n",
       "        vertical-align: middle;\n",
       "    }\n",
       "\n",
       "    .dataframe tbody tr th {\n",
       "        vertical-align: top;\n",
       "    }\n",
       "\n",
       "    .dataframe thead th {\n",
       "        text-align: right;\n",
       "    }\n",
       "</style>\n",
       "<table border=\"1\" class=\"dataframe\">\n",
       "  <thead>\n",
       "    <tr style=\"text-align: right;\">\n",
       "      <th></th>\n",
       "      <th>cust_id</th>\n",
       "      <th>cust_price_sensitivity</th>\n",
       "      <th>cust_lifestage</th>\n",
       "    </tr>\n",
       "  </thead>\n",
       "  <tbody>\n",
       "    <tr>\n",
       "      <td>0</td>\n",
       "      <td>CUST0000410727</td>\n",
       "      <td>UM</td>\n",
       "      <td>OT</td>\n",
       "    </tr>\n",
       "    <tr>\n",
       "      <td>1</td>\n",
       "      <td>CUST0000634693</td>\n",
       "      <td>LA</td>\n",
       "      <td>YF</td>\n",
       "    </tr>\n",
       "    <tr>\n",
       "      <td>47</td>\n",
       "      <td>CUST0000353957</td>\n",
       "      <td>LA</td>\n",
       "      <td>PE</td>\n",
       "    </tr>\n",
       "    <tr>\n",
       "      <td>50</td>\n",
       "      <td>CUST0000089820</td>\n",
       "      <td>LA</td>\n",
       "      <td>OT</td>\n",
       "    </tr>\n",
       "    <tr>\n",
       "      <td>52</td>\n",
       "      <td>CUST0000715467</td>\n",
       "      <td>MM</td>\n",
       "      <td>OT</td>\n",
       "    </tr>\n",
       "  </tbody>\n",
       "</table>\n",
       "</div>"
      ],
      "text/plain": [
       "           cust_id cust_price_sensitivity cust_lifestage\n",
       "0   CUST0000410727                     UM             OT\n",
       "1   CUST0000634693                     LA             YF\n",
       "47  CUST0000353957                     LA             PE\n",
       "50  CUST0000089820                     LA             OT\n",
       "52  CUST0000715467                     MM             OT"
      ]
     },
     "execution_count": 36,
     "metadata": {},
     "output_type": "execute_result"
    }
   ],
   "source": [
    "# Take a look at the customers table\n",
    "customers.head()"
   ]
  },
  {
   "cell_type": "markdown",
   "metadata": {
    "colab_type": "text",
    "id": "Z1lNOwb7Kg8w"
   },
   "source": [
    "We end up with a total of 5.000 customers to include."
   ]
  },
  {
   "cell_type": "markdown",
   "metadata": {
    "colab_type": "text",
    "id": "_cwOdwTpKoB4"
   },
   "source": [
    "## Timestamps table"
   ]
  },
  {
   "cell_type": "markdown",
   "metadata": {},
   "source": [
    "The timestamps table contains all the information related to the time when the event (transaction) happens."
   ]
  },
  {
   "cell_type": "code",
   "execution_count": 39,
   "metadata": {
    "colab": {},
    "colab_type": "code",
    "id": "F0CdvxZiKxRw"
   },
   "outputs": [],
   "source": [
    "# Extract the time information\n",
    "timestamps_df = trans_df[['shop_week', 'shop_date', 'shop_hour']].copy()\n",
    "timestamps_df.drop_duplicates(inplace=True)\n",
    "timestamps_df = timestamps_df.merge(time_df, on='shop_week', how='left', sort=True)\n",
    "timestamps_df.reset_index(inplace=True)\n",
    "timestamps_df.columns = ['time_id', 'shop_week', 'shop_date', 'shop_hour', 'date_from', 'date_to']"
   ]
  },
  {
   "cell_type": "markdown",
   "metadata": {
    "colab_type": "text",
    "id": "L11nrN5lMBqY"
   },
   "source": [
    "For the purpose of this analysis, dates will not be formatted, they will be stored as strings. In further steps this can easily be done and stored."
   ]
  },
  {
   "cell_type": "code",
   "execution_count": 40,
   "metadata": {
    "colab": {},
    "colab_type": "code",
    "id": "vwFTaH1eMLZy"
   },
   "outputs": [],
   "source": [
    "# And store the dataframe\n",
    "timestamps = timestamps_df[['time_id','shop_week', 'date_from', 'date_to', 'shop_date', 'shop_hour']]"
   ]
  },
  {
   "cell_type": "code",
   "execution_count": 41,
   "metadata": {
    "colab": {
     "base_uri": "https://localhost:8080/",
     "height": 204
    },
    "colab_type": "code",
    "id": "YSBmZWt_Liso",
    "outputId": "e6672595-aab5-4fa9-967b-88f56031160d"
   },
   "outputs": [
    {
     "data": {
      "text/html": [
       "<div>\n",
       "<style scoped>\n",
       "    .dataframe tbody tr th:only-of-type {\n",
       "        vertical-align: middle;\n",
       "    }\n",
       "\n",
       "    .dataframe tbody tr th {\n",
       "        vertical-align: top;\n",
       "    }\n",
       "\n",
       "    .dataframe thead th {\n",
       "        text-align: right;\n",
       "    }\n",
       "</style>\n",
       "<table border=\"1\" class=\"dataframe\">\n",
       "  <thead>\n",
       "    <tr style=\"text-align: right;\">\n",
       "      <th></th>\n",
       "      <th>time_id</th>\n",
       "      <th>shop_week</th>\n",
       "      <th>date_from</th>\n",
       "      <th>date_to</th>\n",
       "      <th>shop_date</th>\n",
       "      <th>shop_hour</th>\n",
       "    </tr>\n",
       "  </thead>\n",
       "  <tbody>\n",
       "    <tr>\n",
       "      <td>0</td>\n",
       "      <td>0</td>\n",
       "      <td>200607</td>\n",
       "      <td>20060410</td>\n",
       "      <td>20060416</td>\n",
       "      <td>20060415</td>\n",
       "      <td>19</td>\n",
       "    </tr>\n",
       "    <tr>\n",
       "      <td>1</td>\n",
       "      <td>1</td>\n",
       "      <td>200607</td>\n",
       "      <td>20060410</td>\n",
       "      <td>20060416</td>\n",
       "      <td>20060413</td>\n",
       "      <td>20</td>\n",
       "    </tr>\n",
       "    <tr>\n",
       "      <td>2</td>\n",
       "      <td>2</td>\n",
       "      <td>200607</td>\n",
       "      <td>20060410</td>\n",
       "      <td>20060416</td>\n",
       "      <td>20060416</td>\n",
       "      <td>14</td>\n",
       "    </tr>\n",
       "    <tr>\n",
       "      <td>3</td>\n",
       "      <td>3</td>\n",
       "      <td>200607</td>\n",
       "      <td>20060410</td>\n",
       "      <td>20060416</td>\n",
       "      <td>20060412</td>\n",
       "      <td>19</td>\n",
       "    </tr>\n",
       "    <tr>\n",
       "      <td>4</td>\n",
       "      <td>4</td>\n",
       "      <td>200607</td>\n",
       "      <td>20060410</td>\n",
       "      <td>20060416</td>\n",
       "      <td>20060413</td>\n",
       "      <td>18</td>\n",
       "    </tr>\n",
       "  </tbody>\n",
       "</table>\n",
       "</div>"
      ],
      "text/plain": [
       "   time_id  shop_week  date_from   date_to  shop_date  shop_hour\n",
       "0        0     200607   20060410  20060416   20060415         19\n",
       "1        1     200607   20060410  20060416   20060413         20\n",
       "2        2     200607   20060410  20060416   20060416         14\n",
       "3        3     200607   20060410  20060416   20060412         19\n",
       "4        4     200607   20060410  20060416   20060413         18"
      ]
     },
     "execution_count": 41,
     "metadata": {},
     "output_type": "execute_result"
    }
   ],
   "source": [
    "# Let's take a look at it.\n",
    "timestamps.head()"
   ]
  },
  {
   "cell_type": "markdown",
   "metadata": {
    "colab_type": "text",
    "id": "LQtfeNGsNEUJ"
   },
   "source": [
    "## Products table"
   ]
  },
  {
   "cell_type": "markdown",
   "metadata": {},
   "source": [
    "The products table contains the product code and the categories to which each product fits inside the product hierarchy. At the time no product name/brand is available. "
   ]
  },
  {
   "cell_type": "code",
   "execution_count": 42,
   "metadata": {
    "colab": {},
    "colab_type": "code",
    "id": "f9YQXFcdNXtI"
   },
   "outputs": [],
   "source": [
    "# Extract the products information\n",
    "products_df = trans_df[['prod_code', 'prod_code_10', 'prod_code_20', 'prod_code_30', 'prod_code_40']].copy()\n",
    "products_df.columns = ['prod_id', 'prod_code_10', 'prod_code_20', 'prod_code_30', 'prod_code_40']\n",
    "products_df.drop_duplicates(inplace=True)"
   ]
  },
  {
   "cell_type": "code",
   "execution_count": 43,
   "metadata": {
    "colab": {
     "base_uri": "https://localhost:8080/",
     "height": 204
    },
    "colab_type": "code",
    "id": "xM-eW5XDNwpS",
    "outputId": "3b05e9c1-5df9-4aee-9c78-ababfaea7ef5"
   },
   "outputs": [
    {
     "data": {
      "text/html": [
       "<div>\n",
       "<style scoped>\n",
       "    .dataframe tbody tr th:only-of-type {\n",
       "        vertical-align: middle;\n",
       "    }\n",
       "\n",
       "    .dataframe tbody tr th {\n",
       "        vertical-align: top;\n",
       "    }\n",
       "\n",
       "    .dataframe thead th {\n",
       "        text-align: right;\n",
       "    }\n",
       "</style>\n",
       "<table border=\"1\" class=\"dataframe\">\n",
       "  <thead>\n",
       "    <tr style=\"text-align: right;\">\n",
       "      <th></th>\n",
       "      <th>prod_id</th>\n",
       "      <th>prod_code_10</th>\n",
       "      <th>prod_code_20</th>\n",
       "      <th>prod_code_30</th>\n",
       "      <th>prod_code_40</th>\n",
       "    </tr>\n",
       "  </thead>\n",
       "  <tbody>\n",
       "    <tr>\n",
       "      <td>0</td>\n",
       "      <td>PRD0900033</td>\n",
       "      <td>CL00201</td>\n",
       "      <td>DEP00067</td>\n",
       "      <td>G00021</td>\n",
       "      <td>D00005</td>\n",
       "    </tr>\n",
       "    <tr>\n",
       "      <td>1</td>\n",
       "      <td>PRD0900097</td>\n",
       "      <td>CL00001</td>\n",
       "      <td>DEP00001</td>\n",
       "      <td>G00001</td>\n",
       "      <td>D00001</td>\n",
       "    </tr>\n",
       "    <tr>\n",
       "      <td>2</td>\n",
       "      <td>PRD0900121</td>\n",
       "      <td>CL00063</td>\n",
       "      <td>DEP00019</td>\n",
       "      <td>G00007</td>\n",
       "      <td>D00002</td>\n",
       "    </tr>\n",
       "    <tr>\n",
       "      <td>3</td>\n",
       "      <td>PRD0900135</td>\n",
       "      <td>CL00201</td>\n",
       "      <td>DEP00067</td>\n",
       "      <td>G00021</td>\n",
       "      <td>D00005</td>\n",
       "    </tr>\n",
       "    <tr>\n",
       "      <td>4</td>\n",
       "      <td>PRD0900220</td>\n",
       "      <td>CL00051</td>\n",
       "      <td>DEP00013</td>\n",
       "      <td>G00005</td>\n",
       "      <td>D00002</td>\n",
       "    </tr>\n",
       "  </tbody>\n",
       "</table>\n",
       "</div>"
      ],
      "text/plain": [
       "      prod_id prod_code_10 prod_code_20 prod_code_30 prod_code_40\n",
       "0  PRD0900033      CL00201     DEP00067       G00021       D00005\n",
       "1  PRD0900097      CL00001     DEP00001       G00001       D00001\n",
       "2  PRD0900121      CL00063     DEP00019       G00007       D00002\n",
       "3  PRD0900135      CL00201     DEP00067       G00021       D00005\n",
       "4  PRD0900220      CL00051     DEP00013       G00005       D00002"
      ]
     },
     "execution_count": 43,
     "metadata": {},
     "output_type": "execute_result"
    }
   ],
   "source": [
    "products_df.head()"
   ]
  },
  {
   "cell_type": "code",
   "execution_count": 44,
   "metadata": {
    "colab": {},
    "colab_type": "code",
    "id": "Y65VL1PZNrUW"
   },
   "outputs": [],
   "source": [
    "# And store the dataframe\n",
    "products = products_df"
   ]
  },
  {
   "cell_type": "markdown",
   "metadata": {
    "colab_type": "text",
    "id": "ELbjxg3nNy0w"
   },
   "source": [
    "## Baskets table"
   ]
  },
  {
   "cell_type": "markdown",
   "metadata": {},
   "source": [
    "The baskets table will have all the information related to the baskets to which the products belong."
   ]
  },
  {
   "cell_type": "code",
   "execution_count": 45,
   "metadata": {
    "colab": {},
    "colab_type": "code",
    "id": "zJcazMfON3dm"
   },
   "outputs": [],
   "source": [
    "# Extract the baskets information\n",
    "baskets_df = trans_df[['basket_id', 'basket_size', 'basket_price_sensitivity', 'basket_type', 'basket_dominant_mission']].copy()\n",
    "baskets_df.drop_duplicates(inplace=True)"
   ]
  },
  {
   "cell_type": "code",
   "execution_count": 46,
   "metadata": {
    "colab": {
     "base_uri": "https://localhost:8080/",
     "height": 204
    },
    "colab_type": "code",
    "id": "6MrRP7r_N3dv",
    "outputId": "ad73c015-79e9-4779-eebf-b6ed5852d9e2"
   },
   "outputs": [
    {
     "data": {
      "text/html": [
       "<div>\n",
       "<style scoped>\n",
       "    .dataframe tbody tr th:only-of-type {\n",
       "        vertical-align: middle;\n",
       "    }\n",
       "\n",
       "    .dataframe tbody tr th {\n",
       "        vertical-align: top;\n",
       "    }\n",
       "\n",
       "    .dataframe thead th {\n",
       "        text-align: right;\n",
       "    }\n",
       "</style>\n",
       "<table border=\"1\" class=\"dataframe\">\n",
       "  <thead>\n",
       "    <tr style=\"text-align: right;\">\n",
       "      <th></th>\n",
       "      <th>basket_id</th>\n",
       "      <th>basket_size</th>\n",
       "      <th>basket_price_sensitivity</th>\n",
       "      <th>basket_type</th>\n",
       "      <th>basket_dominant_mission</th>\n",
       "    </tr>\n",
       "  </thead>\n",
       "  <tbody>\n",
       "    <tr>\n",
       "      <td>0</td>\n",
       "      <td>994100100398294</td>\n",
       "      <td>L</td>\n",
       "      <td>MM</td>\n",
       "      <td>Full Shop</td>\n",
       "      <td>Mixed</td>\n",
       "    </tr>\n",
       "    <tr>\n",
       "      <td>1</td>\n",
       "      <td>994100100532898</td>\n",
       "      <td>L</td>\n",
       "      <td>LA</td>\n",
       "      <td>Top Up</td>\n",
       "      <td>Fresh</td>\n",
       "    </tr>\n",
       "    <tr>\n",
       "      <td>2</td>\n",
       "      <td>994100100135562</td>\n",
       "      <td>L</td>\n",
       "      <td>MM</td>\n",
       "      <td>Top Up</td>\n",
       "      <td>Grocery</td>\n",
       "    </tr>\n",
       "    <tr>\n",
       "      <td>5</td>\n",
       "      <td>994100100532897</td>\n",
       "      <td>M</td>\n",
       "      <td>MM</td>\n",
       "      <td>Small Shop</td>\n",
       "      <td>Fresh</td>\n",
       "    </tr>\n",
       "    <tr>\n",
       "      <td>6</td>\n",
       "      <td>994100100136577</td>\n",
       "      <td>M</td>\n",
       "      <td>LA</td>\n",
       "      <td>Small Shop</td>\n",
       "      <td>Fresh</td>\n",
       "    </tr>\n",
       "  </tbody>\n",
       "</table>\n",
       "</div>"
      ],
      "text/plain": [
       "         basket_id basket_size basket_price_sensitivity basket_type  \\\n",
       "0  994100100398294           L                       MM   Full Shop   \n",
       "1  994100100532898           L                       LA      Top Up   \n",
       "2  994100100135562           L                       MM      Top Up   \n",
       "5  994100100532897           M                       MM  Small Shop   \n",
       "6  994100100136577           M                       LA  Small Shop   \n",
       "\n",
       "  basket_dominant_mission  \n",
       "0                   Mixed  \n",
       "1                   Fresh  \n",
       "2                 Grocery  \n",
       "5                   Fresh  \n",
       "6                   Fresh  "
      ]
     },
     "execution_count": 46,
     "metadata": {},
     "output_type": "execute_result"
    }
   ],
   "source": [
    "baskets_df.head()"
   ]
  },
  {
   "cell_type": "code",
   "execution_count": 47,
   "metadata": {
    "colab": {},
    "colab_type": "code",
    "id": "yXJ8q2yjN3d2"
   },
   "outputs": [],
   "source": [
    "# And store the dataframe\n",
    "baskets = baskets_df"
   ]
  },
  {
   "cell_type": "markdown",
   "metadata": {
    "colab_type": "text",
    "id": "jP-so7_2OL0h"
   },
   "source": [
    "## Stores table"
   ]
  },
  {
   "cell_type": "markdown",
   "metadata": {},
   "source": [
    "This table contains the stores at which the transaction was registered along with some other information. "
   ]
  },
  {
   "cell_type": "code",
   "execution_count": 48,
   "metadata": {
    "colab": {},
    "colab_type": "code",
    "id": "eiaZdUVlOSdS"
   },
   "outputs": [],
   "source": [
    "# Extract the stores information\n",
    "stores_df = trans_df[['store_code', 'store_format', 'store_region']].copy()\n",
    "stores_df.columns = ['store_id', 'store_format', 'store_region']\n",
    "stores_df.drop_duplicates(inplace=True)"
   ]
  },
  {
   "cell_type": "code",
   "execution_count": 49,
   "metadata": {
    "colab": {
     "base_uri": "https://localhost:8080/",
     "height": 204
    },
    "colab_type": "code",
    "id": "8GpKXo5lOSdc",
    "outputId": "891f1d54-db0e-4b4e-a4e5-fdd94bdfec24"
   },
   "outputs": [
    {
     "data": {
      "text/html": [
       "<div>\n",
       "<style scoped>\n",
       "    .dataframe tbody tr th:only-of-type {\n",
       "        vertical-align: middle;\n",
       "    }\n",
       "\n",
       "    .dataframe tbody tr th {\n",
       "        vertical-align: top;\n",
       "    }\n",
       "\n",
       "    .dataframe thead th {\n",
       "        text-align: right;\n",
       "    }\n",
       "</style>\n",
       "<table border=\"1\" class=\"dataframe\">\n",
       "  <thead>\n",
       "    <tr style=\"text-align: right;\">\n",
       "      <th></th>\n",
       "      <th>store_id</th>\n",
       "      <th>store_format</th>\n",
       "      <th>store_region</th>\n",
       "    </tr>\n",
       "  </thead>\n",
       "  <tbody>\n",
       "    <tr>\n",
       "      <td>0</td>\n",
       "      <td>STORE00001</td>\n",
       "      <td>LS</td>\n",
       "      <td>E02</td>\n",
       "    </tr>\n",
       "    <tr>\n",
       "      <td>47</td>\n",
       "      <td>STORE00002</td>\n",
       "      <td>LS</td>\n",
       "      <td>W01</td>\n",
       "    </tr>\n",
       "    <tr>\n",
       "      <td>94</td>\n",
       "      <td>STORE00003</td>\n",
       "      <td>LS</td>\n",
       "      <td>E01</td>\n",
       "    </tr>\n",
       "    <tr>\n",
       "      <td>145</td>\n",
       "      <td>STORE00004</td>\n",
       "      <td>MS</td>\n",
       "      <td>E03</td>\n",
       "    </tr>\n",
       "    <tr>\n",
       "      <td>155</td>\n",
       "      <td>STORE00006</td>\n",
       "      <td>LS</td>\n",
       "      <td>S01</td>\n",
       "    </tr>\n",
       "  </tbody>\n",
       "</table>\n",
       "</div>"
      ],
      "text/plain": [
       "       store_id store_format store_region\n",
       "0    STORE00001           LS          E02\n",
       "47   STORE00002           LS          W01\n",
       "94   STORE00003           LS          E01\n",
       "145  STORE00004           MS          E03\n",
       "155  STORE00006           LS          S01"
      ]
     },
     "execution_count": 49,
     "metadata": {},
     "output_type": "execute_result"
    }
   ],
   "source": [
    "stores_df.head()"
   ]
  },
  {
   "cell_type": "code",
   "execution_count": 50,
   "metadata": {
    "colab": {},
    "colab_type": "code",
    "id": "YxU-THuaOSdl"
   },
   "outputs": [],
   "source": [
    "# And store the dataframe\n",
    "stores = stores_df"
   ]
  },
  {
   "cell_type": "markdown",
   "metadata": {
    "colab_type": "text",
    "id": "9t787cPNOlBd"
   },
   "source": [
    "## Transactions table"
   ]
  },
  {
   "cell_type": "markdown",
   "metadata": {},
   "source": [
    "Finally, the transactions table will be our main table where each event is recorded and all foreign tables are cited. "
   ]
  },
  {
   "cell_type": "code",
   "execution_count": 51,
   "metadata": {
    "colab": {},
    "colab_type": "code",
    "id": "fpmD0f4_O_Eb"
   },
   "outputs": [],
   "source": [
    "# Extract the stores information\n",
    "transactions_df = trans_df[['shop_week', 'shop_date', 'shop_hour',\n",
    "                            'quantity', 'spend', 'prod_code', 'cust_code','basket_id', 'store_code']]\n",
    "transactions_df.columns = ['shop_week', 'shop_date','shop_hour',\n",
    "                           'quantity', 'spend', 'prod_id', 'cust_id','basket_id', 'store_id']"
   ]
  },
  {
   "cell_type": "code",
   "execution_count": 52,
   "metadata": {
    "colab": {},
    "colab_type": "code",
    "id": "cTGXjbcwO_Et"
   },
   "outputs": [],
   "source": [
    "# Append the time_id\n",
    "transactions_df = transactions_df.merge(timestamps[['shop_date', 'shop_hour', 'time_id']], \n",
    "                                  how='left',  \n",
    "                                  on=['shop_date', 'shop_hour'])\n",
    "transactions_df.drop(columns=['shop_week', 'shop_date', 'shop_hour'], inplace=True)"
   ]
  },
  {
   "cell_type": "code",
   "execution_count": 53,
   "metadata": {
    "colab": {},
    "colab_type": "code",
    "id": "yCuQRFFtRU_W"
   },
   "outputs": [],
   "source": [
    "transactions = transactions_df[['time_id','quantity', 'spend', 'prod_id', 'cust_id', 'basket_id', 'store_id']]"
   ]
  },
  {
   "cell_type": "code",
   "execution_count": 54,
   "metadata": {
    "colab": {
     "base_uri": "https://localhost:8080/",
     "height": 204
    },
    "colab_type": "code",
    "id": "pB3ZbDZSY2tc",
    "outputId": "3f67f2f9-cc33-42e3-a956-26e9578b506b"
   },
   "outputs": [
    {
     "data": {
      "text/html": [
       "<div>\n",
       "<style scoped>\n",
       "    .dataframe tbody tr th:only-of-type {\n",
       "        vertical-align: middle;\n",
       "    }\n",
       "\n",
       "    .dataframe tbody tr th {\n",
       "        vertical-align: top;\n",
       "    }\n",
       "\n",
       "    .dataframe thead th {\n",
       "        text-align: right;\n",
       "    }\n",
       "</style>\n",
       "<table border=\"1\" class=\"dataframe\">\n",
       "  <thead>\n",
       "    <tr style=\"text-align: right;\">\n",
       "      <th></th>\n",
       "      <th>time_id</th>\n",
       "      <th>quantity</th>\n",
       "      <th>spend</th>\n",
       "      <th>prod_id</th>\n",
       "      <th>cust_id</th>\n",
       "      <th>basket_id</th>\n",
       "      <th>store_id</th>\n",
       "    </tr>\n",
       "  </thead>\n",
       "  <tbody>\n",
       "    <tr>\n",
       "      <td>0</td>\n",
       "      <td>0</td>\n",
       "      <td>1</td>\n",
       "      <td>0.93</td>\n",
       "      <td>PRD0900033</td>\n",
       "      <td>CUST0000410727</td>\n",
       "      <td>994100100398294</td>\n",
       "      <td>STORE00001</td>\n",
       "    </tr>\n",
       "    <tr>\n",
       "      <td>1</td>\n",
       "      <td>1</td>\n",
       "      <td>1</td>\n",
       "      <td>1.03</td>\n",
       "      <td>PRD0900097</td>\n",
       "      <td>CUST0000634693</td>\n",
       "      <td>994100100532898</td>\n",
       "      <td>STORE00001</td>\n",
       "    </tr>\n",
       "    <tr>\n",
       "      <td>2</td>\n",
       "      <td>2</td>\n",
       "      <td>1</td>\n",
       "      <td>0.98</td>\n",
       "      <td>PRD0900121</td>\n",
       "      <td>NaN</td>\n",
       "      <td>994100100135562</td>\n",
       "      <td>STORE00001</td>\n",
       "    </tr>\n",
       "    <tr>\n",
       "      <td>3</td>\n",
       "      <td>0</td>\n",
       "      <td>1</td>\n",
       "      <td>3.07</td>\n",
       "      <td>PRD0900135</td>\n",
       "      <td>CUST0000410727</td>\n",
       "      <td>994100100398294</td>\n",
       "      <td>STORE00001</td>\n",
       "    </tr>\n",
       "    <tr>\n",
       "      <td>4</td>\n",
       "      <td>0</td>\n",
       "      <td>1</td>\n",
       "      <td>4.81</td>\n",
       "      <td>PRD0900220</td>\n",
       "      <td>CUST0000410727</td>\n",
       "      <td>994100100398294</td>\n",
       "      <td>STORE00001</td>\n",
       "    </tr>\n",
       "  </tbody>\n",
       "</table>\n",
       "</div>"
      ],
      "text/plain": [
       "   time_id  quantity  spend     prod_id         cust_id        basket_id  \\\n",
       "0        0         1   0.93  PRD0900033  CUST0000410727  994100100398294   \n",
       "1        1         1   1.03  PRD0900097  CUST0000634693  994100100532898   \n",
       "2        2         1   0.98  PRD0900121             NaN  994100100135562   \n",
       "3        0         1   3.07  PRD0900135  CUST0000410727  994100100398294   \n",
       "4        0         1   4.81  PRD0900220  CUST0000410727  994100100398294   \n",
       "\n",
       "     store_id  \n",
       "0  STORE00001  \n",
       "1  STORE00001  \n",
       "2  STORE00001  \n",
       "3  STORE00001  \n",
       "4  STORE00001  "
      ]
     },
     "execution_count": 54,
     "metadata": {},
     "output_type": "execute_result"
    }
   ],
   "source": [
    "transactions.head()"
   ]
  },
  {
   "cell_type": "markdown",
   "metadata": {
    "colab_type": "text",
    "id": "BUUqPuSWY3_I"
   },
   "source": [
    "# Loading data"
   ]
  },
  {
   "cell_type": "markdown",
   "metadata": {},
   "source": [
    "This step creates the connection to the database and loops through all the tables inside the database populating it with the data created inside this script. "
   ]
  },
  {
   "cell_type": "code",
   "execution_count": 62,
   "metadata": {},
   "outputs": [],
   "source": [
    "# Load the file \n",
    "json_data = json.loads(open('../../db_conn.json').read())\n",
    "\n",
    "conn = 'mysql+pymysql://'+json_data[\"user\"]+':'+json_data[\"password\"]+'@'+json_data[\"host\"]+':'+str(json_data[\"port\"])+'/'+json_data[\"db_name\"]"
   ]
  },
  {
   "cell_type": "code",
   "execution_count": 65,
   "metadata": {
    "colab": {},
    "colab_type": "code",
    "id": "rBebF6kUbQ8V"
   },
   "outputs": [],
   "source": [
    "# Connect to the DB\n",
    "mysql_engine = create_engine(conn,echo=False)"
   ]
  },
  {
   "cell_type": "code",
   "execution_count": 66,
   "metadata": {
    "colab": {},
    "colab_type": "code",
    "id": "86K5twEQc124"
   },
   "outputs": [],
   "source": [
    "# Set tables names to iterate\n",
    "sql_tables = mysql_engine.table_names()\n",
    "pd_tables = [tab.lower() for tab in sql_tables]"
   ]
  },
  {
   "cell_type": "code",
   "execution_count": 67,
   "metadata": {},
   "outputs": [
    {
     "data": {
      "text/plain": [
       "['Baskets', 'Customers', 'Products', 'Stores', 'Timestamps', 'Transactions']"
      ]
     },
     "execution_count": 67,
     "metadata": {},
     "output_type": "execute_result"
    }
   ],
   "source": [
    "sql_tables"
   ]
  },
  {
   "cell_type": "code",
   "execution_count": 194,
   "metadata": {
    "colab": {
     "base_uri": "https://localhost:8080/",
     "height": 119
    },
    "colab_type": "code",
    "id": "2Bo9bp1uc4NK",
    "outputId": "201dd08c-b363-4e96-91e7-769c467998b0"
   },
   "outputs": [
    {
     "name": "stdout",
     "output_type": "stream",
     "text": [
      "baskets Baskets 490982\n",
      "customers Customers 5000\n",
      "products Products 4997\n",
      "stores Stores 761\n",
      "timestamps Timestamps 11467\n",
      "transactions Transactions 3158469\n"
     ]
    }
   ],
   "source": [
    "#Iterate over database tables and send to sql query database\n",
    "for pdtab, sqltab in zip(pd_tables, sql_tables):\n",
    "  print(pdtab, sqltab, eval(pdtab).shape[0])\n",
    "  eval(pdtab).to_sql(sqltab, mysql_engine, if_exists='append', index=False)"
   ]
  },
  {
   "cell_type": "code",
   "execution_count": 69,
   "metadata": {},
   "outputs": [],
   "source": [
    "mysql_engine.dispose()"
   ]
  },
  {
   "cell_type": "markdown",
   "metadata": {},
   "source": [
    "At the end of this script a database has been created with all the data provided, which is a more efficient way to store and query the information. "
   ]
  }
 ],
 "metadata": {
  "colab": {
   "collapsed_sections": [],
   "machine_shape": "hm",
   "name": "ETL_Pipe.ipynb",
   "provenance": [],
   "toc_visible": true
  },
  "kernelspec": {
   "display_name": "Python 3",
   "language": "python",
   "name": "python3"
  },
  "language_info": {
   "codemirror_mode": {
    "name": "ipython",
    "version": 3
   },
   "file_extension": ".py",
   "mimetype": "text/x-python",
   "name": "python",
   "nbconvert_exporter": "python",
   "pygments_lexer": "ipython3",
   "version": "3.7.4"
  }
 },
 "nbformat": 4,
 "nbformat_minor": 1
}
